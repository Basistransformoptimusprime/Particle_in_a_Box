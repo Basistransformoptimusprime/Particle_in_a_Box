{
 "cells": [
  {
   "cell_type": "code",
   "execution_count": 1,
   "metadata": {},
   "outputs": [
    {
     "name": "stdout",
     "output_type": "stream",
     "text": [
      "p1: 1, p2: 2\n",
      "p1: 3, p2: 4\n"
     ]
    }
   ],
   "source": [
    "class Some_properties:\r\n",
    "    def __init__(self, p1, p2):\r\n",
    "        self._p1 = p1\r\n",
    "        self._p2 = p2\r\n",
    "            \r\n",
    "    def __str__(self):\r\n",
    "        return \"p1: \" + str(self._p1) + \", p2: \" + str(self._p2)\r\n",
    "\r\n",
    "class Composition:\r\n",
    "    def __init__(self, props: Some_properties):\r\n",
    "        self._props = props\r\n",
    "    \r\n",
    "    def print_props(self):\r\n",
    "        print(self._props)\r\n",
    "\r\n",
    "class Master:\r\n",
    "    def __init__(self, p1, p2):\r\n",
    "        self._master_props = Some_properties(p1, p2)\r\n",
    "        self._has_a = Composition(self._master_props)\r\n",
    "\r\n",
    "    def manip_props(self, v1, v2):\r\n",
    "        self._master_props._p1 = v1\r\n",
    "        self._master_props._p2 = v2\r\n",
    "\r\n",
    "\r\n",
    "\r\n",
    "master = Master(1, 2)\r\n",
    "master._has_a.print_props()\r\n",
    "master.manip_props(3, 4)\r\n",
    "master._has_a.print_props()\r\n",
    "    "
   ]
  },
  {
   "cell_type": "code",
   "execution_count": 2,
   "metadata": {},
   "outputs": [
    {
     "name": "stdout",
     "output_type": "stream",
     "text": [
      "other is of type(self) =  <class '__main__.number'>\n",
      "2\n"
     ]
    }
   ],
   "source": [
    "from __future__ import annotations\r\n",
    "\r\n",
    "class number:\r\n",
    "    def __init__(self, num: int) -> None:\r\n",
    "        self.eq_called = 0\r\n",
    "        self.n = num\r\n",
    "\r\n",
    "    def __add__(self, other: number) -> number:\r\n",
    "        return number(self.n + other.n)\r\n",
    "\r\n",
    "    def __sub__(self, other: number) -> number:\r\n",
    "        return self + (-1)*other\r\n",
    "\r\n",
    "    def __mul__(self, other: number | int) -> number:\r\n",
    "        if isinstance(other, int):\r\n",
    "            return number(self.n*other)\r\n",
    "        elif isinstance(other, type(self)):\r\n",
    "            print(\"other is of type(self) = \", type(self))\r\n",
    "            return number(self.n * other.n)\r\n",
    "\r\n",
    "    def __neg__(self) -> number:\r\n",
    "        return self*(-1)\r\n",
    "\r\n",
    "\r\n",
    "    def __rmul__(self, other: number | int) -> number:\r\n",
    "        print(\"rmul called\")\r\n",
    "        return self.__mul__(other)\r\n",
    "\r\n",
    "    def __str__(self) -> str:\r\n",
    "        return str(self.n)\r\n",
    "\r\n",
    "    def __eq__(self, other: number | int) -> bool:\r\n",
    "        self.eq_called += 1\r\n",
    "        if isinstance(other, number):\r\n",
    "            return self.n == other.n\r\n",
    "        elif isinstance(other, int):\r\n",
    "            return self.n == other\r\n",
    "    \r\n",
    "\r\n",
    "n1 = number(1)\r\n",
    "n2 = number(2)\r\n",
    "\r\n",
    "print(n1*n2)"
   ]
  },
  {
   "cell_type": "code",
   "execution_count": 3,
   "metadata": {},
   "outputs": [
    {
     "name": "stdout",
     "output_type": "stream",
     "text": [
      "is one\n"
     ]
    },
    {
     "data": {
      "text/plain": [
       "1"
      ]
     },
     "execution_count": 3,
     "metadata": {},
     "output_type": "execute_result"
    }
   ],
   "source": [
    "n1.eq_called = 0\r\n",
    "\r\n",
    "if n1 == 1:\r\n",
    "    print(\"is one\")\r\n",
    "elif n1 == 2:\r\n",
    "    print(\"is tow\")\r\n",
    "\r\n",
    "n1.eq_called"
   ]
  },
  {
   "cell_type": "code",
   "execution_count": 4,
   "metadata": {},
   "outputs": [
    {
     "data": {
      "text/plain": [
       "[1, 2]"
      ]
     },
     "execution_count": 4,
     "metadata": {},
     "output_type": "execute_result"
    }
   ],
   "source": [
    "class Do_you_ref_int:\r\n",
    "    def __init__(self, num: int) -> None:\r\n",
    "        self._num = [num]\r\n",
    "\r\n",
    "dyri = Do_you_ref_int(1)\r\n",
    "a = dyri._num\r\n",
    "dyri._num.append(2)\r\n",
    "a"
   ]
  },
  {
   "cell_type": "code",
   "execution_count": 3,
   "metadata": {},
   "outputs": [
    {
     "data": {
      "text/plain": [
       "[1, 2, 3, 4]"
      ]
     },
     "execution_count": 3,
     "metadata": {},
     "output_type": "execute_result"
    }
   ],
   "source": [
    "[] + [1,2] + [3,4]"
   ]
  }
 ],
 "metadata": {
  "interpreter": {
   "hash": "b3ba2566441a7c06988d0923437866b63cedc61552a5af99d1f4fb67d367b25f"
  },
  "kernelspec": {
   "display_name": "Python 3.8.8 64-bit ('base': conda)",
   "name": "python3"
  },
  "language_info": {
   "codemirror_mode": {
    "name": "ipython",
    "version": 3
   },
   "file_extension": ".py",
   "mimetype": "text/x-python",
   "name": "python",
   "nbconvert_exporter": "python",
   "pygments_lexer": "ipython3",
   "version": "3.8.8"
  },
  "orig_nbformat": 4
 },
 "nbformat": 4,
 "nbformat_minor": 2
}