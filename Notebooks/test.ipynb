{
 "cells": [
  {
   "cell_type": "code",
   "execution_count": 85,
   "metadata": {},
   "outputs": [],
   "source": [
    "from pib_lib import particle_in_a_box as pib    # Main library providing the <Particle_in_Box_State> class\n",
    "from pib_lib import update_plot as up           # library to provide basic visualization functionality based on matplotlib\n",
    "from pib_lib import Special_States as spst      # Collection of special preset states (Gaussian wave packets)\n",
    "from pib_lib import Backend as bk\n",
    "import numpy as np\n",
    "from scipy.integrate import quad\n",
    "from matplotlib import pyplot as plt"
   ]
  },
  {
   "cell_type": "code",
   "execution_count": 86,
   "metadata": {},
   "outputs": [],
   "source": [
    "L = np.pi\n",
    "m = 1\n",
    "states = [1,2,3]\n",
    "amps = [1,1j,1+1j]\n",
    "boudary_condition = \"anti_symmetric\"\n",
    "gamma = 10\n",
    "\n",
    "state = pib.Particle_in_Box_State(boudary_condition, L, m, states, amps, gamma)"
   ]
  },
  {
   "cell_type": "code",
   "execution_count": 87,
   "metadata": {},
   "outputs": [],
   "source": [
    "state.L = 2*np.pi              # change length of the interval\n",
    "state.m = 2                         # change mass of the particle\n",
    "state.case = \"dirichlet\"            # change the boundary condition\n",
    "state.gamma = 100\n",
    "\n",
    "state.add_state([4,5], [2, 3])      # add states with quantum numbers 4 and 5 and relative amplitudes of 2 and 3 respectively\n",
    "state.remove_state([1,4])           # remove the previously added states with quantum numbers 1 and 4"
   ]
  },
  {
   "cell_type": "code",
   "execution_count": 88,
   "metadata": {},
   "outputs": [
    {
     "data": {
      "image/png": "[encoded data removed]",
      "text/plain": [
       "<Figure size 432x288 with 1 Axes>"
      ]
     },
     "metadata": {
      "needs_background": "light"
     },
     "output_type": "display_data"
    }
   ],
   "source": [
    "fig = plt.figure()\n",
    "ax = fig.add_subplot()\n",
    "new_momentum_plot = up.new_momentum_space_plot(state, fig, ax)\n",
    "new_momentum_plot[\"abs_square\"].plot_config(color=up.light_blue)\n",
    "momentum_plot = up.momentum_space_plot(state, fig, ax)\n",
    "\n",
    "plots = up.Update_Plot_Collection(fig, new_momentum_plot, momentum_plot)\n",
    "plots.set_n_bound(15)\n",
    "lines = plots.plot()"
   ]
  },
  {
   "cell_type": "code",
   "execution_count": 89,
   "metadata": {},
   "outputs": [],
   "source": [
    "new_k_distr = lambda n: np.abs(state.new_k_space_wavefunction(n, 0))**2\n",
    "k_distr = lambda k: np.abs(state.k_space_wavefunction(k, 0))**2"
   ]
  },
  {
   "cell_type": "code",
   "execution_count": 90,
   "metadata": {},
   "outputs": [
    {
     "data": {
      "text/plain": [
       "0.9999975008962199"
      ]
     },
     "execution_count": 90,
     "metadata": {},
     "output_type": "execute_result"
    }
   ],
   "source": [
    "kn = state.boundary_lib.get_kn(np.arange(-15, 16))\n",
    "amp = new_k_distr(np.arange(-100, 100))\n",
    "np.sum(amp)"
   ]
  },
  {
   "cell_type": "code",
   "execution_count": 91,
   "metadata": {},
   "outputs": [
    {
     "name": "stderr",
     "output_type": "stream",
     "text": [
      "C:\\Users\\User01\\AppData\\Local\\Temp\\ipykernel_8592\\3712046480.py:1: IntegrationWarning: The maximum number of subdivisions (50) has been achieved.\n",
      "  If increasing the limit yields no improvement it is advised to analyze \n",
      "  the integrand in order to determine the difficulties.  If the position of a \n",
      "  local difficulty can be determined (singularity, discontinuity) one will \n",
      "  probably gain from splitting up the interval and calling the integrator \n",
      "  on the subranges.  Perhaps a special-purpose integrator should be used.\n",
      "  quad(k_distr, -100, 100)\n"
     ]
    },
    {
     "data": {
      "text/plain": [
       "(0.9999996805461469, 6.952070146164867e-07)"
      ]
     },
     "execution_count": 91,
     "metadata": {},
     "output_type": "execute_result"
    }
   ],
   "source": [
    "quad(k_distr, -100, 100)"
   ]
  }
 ],
 "metadata": {
  "interpreter": {
   "hash": "b04b6e655876f98f854b526336d3a997a09424d944b444bfcff6d7b570210d4c"
  },
  "kernelspec": {
   "display_name": "Python 3.10.2 64-bit",
   "language": "python",
   "name": "python3"
  },
  "language_info": {
   "codemirror_mode": {
    "name": "ipython",
    "version": 3
   },
   "file_extension": ".py",
   "mimetype": "text/x-python",
   "name": "python",
   "nbconvert_exporter": "python",
   "pygments_lexer": "ipython3",
   "version": "3.10.2"
  },
  "orig_nbformat": 4
 },
 "nbformat": 4,
 "nbformat_minor": 2
}
