{
 "cells": [
  {
   "cell_type": "code",
   "execution_count": 83,
   "source": [
    "from sys import path\r\n",
    "path.append(\"..\")\r\n",
    "from pib_lib import particle_in_a_box as pib\r\n",
    "from pib_lib import update_plot as up\r\n",
    "from matplotlib import pyplot as plt\r\n",
    "from matplotlib.ticker import MultipleLocator, AutoLocator\r\n",
    "import numpy as np\r\n",
    "plt.rcParams[\"text.usetex\"] = True\r\n",
    "plt.rcParams['axes.labelsize'] = 8\r\n",
    "plt.rcParams['xtick.labelsize'] = 8\r\n",
    "plt.rcParams['ytick.labelsize'] = 8\r\n",
    "plt.rcParams['axes.linewidth'] = 0.7\r\n",
    "plt.rcParams['xtick.major.width'] = 0.7\r\n",
    "plt.rcParams['ytick.major.width'] = 0.7\r\n",
    "plt.rcParams[\"xtick.major.size\"] = 3\r\n",
    "plt.rcParams[\"ytick.major.size\"] = 3"
   ],
   "outputs": [],
   "metadata": {}
  },
  {
   "cell_type": "code",
   "execution_count": 2,
   "source": [
    "L = np.pi\r\n",
    "m = 1\r\n",
    "states = [6]\r\n",
    "amps = [1]\r\n",
    "dirichlet_state = pib.Particle_in_Box_Immediate_Mode(\"dirichlet\", L, m , states, amps)"
   ],
   "outputs": [],
   "metadata": {}
  },
  {
   "cell_type": "code",
   "execution_count": 85,
   "source": [
    "ratio = 2/3\r\n",
    "width = 6\r\n",
    "fig = plt.figure(tight_layout=True, figsize=(width, width*ratio))\r\n",
    "ax = fig.add_subplot()\r\n",
    "ax.set_xlim([-11, 11])\r\n",
    "ax.set_xlabel(r\"$n$\")\r\n",
    "ax.yaxis.set_major_locator(MultipleLocator(0.05))\r\n",
    "ax.xaxis.set_minor_locator(MultipleLocator(1))\r\n",
    "if width >= 6:\r\n",
    "    ax.yaxis.set_minor_locator(MultipleLocator(0.01))\r\n",
    "ax.set_xticks(np.arange(-10, 12, 2))\r\n",
    "momentum_plot = up.momentum_space_plot(dirichlet_state, fig, ax, abs_square=True)\r\n",
    "momentum_plot[\"abs_square\"].plot_config(color=\"red\")\r\n",
    "new_momentum_plot = up.new_momentum_space_plot(dirichlet_state, fig, ax, abs_square=True, expectation_value=False)\r\n",
    "new_momentum_plot[\"abs_square\"].plot_config(color=\"#FBBD53\")\r\n",
    "collection_plot = up.Update_Plot_Collection(fig, new_momentum_plot, momentum_plot).set_n_bound(11)\r\n",
    "collection_plot.plot()\r\n",
    "momentum_plot[\"abs_square\"].line.set_label(\"test\")\r\n",
    "new_momentum_plot[\"abs_square\"].bars.set_label(\"test\")\r\n",
    "for bar in new_momentum_plot[\"abs_square\"].bars:\r\n",
    "    bar.set_edgecolor(\"#A16D15\")\r\n",
    "    bar.set_lw(0.7)\r\n",
    "#ax.legend(loc=\"upper center\", handlelength=0.9)\r\n",
    "plt.savefig(\"..\\\\..\\\\Additional_Plots\\\\6th_excited_dirichlet_\" + str(width) + \"inch.pdf\")"
   ],
   "outputs": [
    {
     "output_type": "display_data",
     "data": {
      "image/png": "[encoded data removed]",
      "text/plain": [
       "<Figure size 432x288 with 1 Axes>"
      ]
     },
     "metadata": {
      "needs_background": "light"
     }
    }
   ],
   "metadata": {}
  }
 ],
 "metadata": {
  "orig_nbformat": 4,
  "language_info": {
   "name": "python",
   "version": "3.8.11",
   "mimetype": "text/x-python",
   "codemirror_mode": {
    "name": "ipython",
    "version": 3
   },
   "pygments_lexer": "ipython3",
   "nbconvert_exporter": "python",
   "file_extension": ".py"
  },
  "kernelspec": {
   "name": "python3",
   "display_name": "Python 3.8.11 64-bit ('base': conda)"
  },
  "interpreter": {
   "hash": "b3ba2566441a7c06988d0923437866b63cedc61552a5af99d1f4fb67d367b25f"
  }
 },
 "nbformat": 4,
 "nbformat_minor": 2
}