{
 "cells": [
  {
   "cell_type": "markdown",
   "metadata": {},
   "source": [
    "## Pib Lib Demo\n",
    "Reference Notebook for functionality of pib lib\n",
    "> To run this notebook, pib_lib must be installed to your Python environment"
   ]
  },
  {
   "cell_type": "code",
   "execution_count": 1,
   "metadata": {},
   "outputs": [],
   "source": [
    "from pib_lib import particle_in_a_box as pib # Main library providing the 'Particle_in_a_Box_State' class\n",
    "from pib_lib import update_plot as up        # library to provide basic visualization functionality based on matplotlib\n",
    "from pib_lib import Special_States as spst   # Collection of special preset states (Gaussian wave packets)\n",
    "import numpy as np\n",
    "from matplotlib import pyplot as plt"
   ]
  },
  {
   "cell_type": "markdown",
   "metadata": {},
   "source": [
    "Creation of generic particle-in-a-box state with the following parameters:\n",
    "- `L`: Width of the interval in natural units\n",
    "- `m`: Mass of the particle in natural units\n",
    "- `states`: Array containing the quantum numbers of the energy eigenstates we want to superimpose. To understand to which states the respective quantum numbers refere, please see [Self-Adjoint Hamiltonian](http://www.wiese.itp.unibe.ch/theses/wyss_bachelor.pdf#section.2.2).\n",
    "- `amps`: Amplitudes of the latter states. If the resulting state is not normalized to one, the state will be normalized automatically; hence the entries of the list are to be considered relative amplitudes.\n",
    "- `boundary_condition`: one of `symmetric`, `anti_symmetric`, `dirichlet`, `neumann`, `dirichlet_neumann`, `symmetric_nummeric`, `anti_symmetric_nummeric`\n",
    "please see sections [2.2](http://www.wiese.itp.unibe.ch/theses/wyss_bachelor.pdf#section.2.2) and [2.3](http://www.wiese.itp.unibe.ch/theses/wyss_bachelor.pdf#section.2.3) of the [bachelor thesis](http://www.wiese.itp.unibe.ch/theses/wyss_bachelor.pdf) this library was designed for to get a better understanding of the boundary conditions.\n",
    "- `gamma`: Parameter charakterizing the boundary condition of a self-adjoint Hamilton operator depending on choice of `boudary_condition` \n",
    "  - for `symmetric` and `symmetric_nummeric` : `gamma` $= \\gamma_+ = \\gamma_-$ (see [section 2.3.1](http://www.wiese.itp.unibe.ch/theses/wyss_bachelor.pdf#section.2.3))\n",
    "  - for `anti_symmetric` and `anti_symmeric_nummeric`: `gamma`$= \\gamma_+ = -\\gamma_-$ (see [section 2.3.2](http://www.wiese.itp.unibe.ch/theses/wyss_bachelor.pdf#section.2.3))"
   ]
  },
  {
   "cell_type": "code",
   "execution_count": 2,
   "metadata": {},
   "outputs": [],
   "source": [
    "L = np.pi\n",
    "m = 1\n",
    "states = [1,2,3]\n",
    "amps = [1,1j,1+1j]\n",
    "boudary_condition = \"anti_symmetric\"\n",
    "gamma = 10\n",
    "\n",
    "state = pib.Particle_in_Box_State(boudary_condition, L, m, states, amps, gamma)"
   ]
  },
  {
   "cell_type": "markdown",
   "metadata": {},
   "source": [
    "After creation, most properties of the state can be altered as follows:"
   ]
  },
  {
   "cell_type": "code",
   "execution_count": 3,
   "metadata": {},
   "outputs": [],
   "source": [
    "state.L = 2*np.pi                   # change length of the interval\n",
    "state.m = 2                         # change mass of the particle\n",
    "state.case = \"dirichlet_neumann\"    # change the boundary condition\n",
    "\n",
    "state.add_state([4,5], [2, 3])      # add states with quantum numbers 4 and 5 and relative amplitudes of 2 and 3 respectively\n",
    "state.remove_state([1,4])           # remove the previously added states with quantum numbers 1 and 4"
   ]
  },
  {
   "cell_type": "markdown",
   "metadata": {},
   "source": [
    "We can then retrieve position and momentum space projections of the state as python functions:"
   ]
  },
  {
   "cell_type": "code",
   "execution_count": 5,
   "metadata": {},
   "outputs": [],
   "source": [
    "pos_space_proj = state.x_space_wavefunction\n",
    "momentum_space_proj = state.k_space_wavefunction"
   ]
  },
  {
   "cell_type": "markdown",
   "metadata": {},
   "source": [
    "The latter functions take as arguments a continous value of position (that is, of momentum respectively) and the time:"
   ]
  },
  {
   "cell_type": "code",
   "execution_count": 6,
   "metadata": {},
   "outputs": [],
   "source": [
    "x_amp = pos_space_proj(0.5, 1) # evaluate the position space wave function at x = 0.5 and t = 1"
   ]
  },
  {
   "cell_type": "code",
   "execution_count": 20,
   "metadata": {},
   "outputs": [
    {
     "name": "stderr",
     "output_type": "stream",
     "text": [
      "c:\\Users\\valen\\AppData\\Local\\Programs\\Python\\Python310\\lib\\site-packages\\matplotlib\\cbook\\__init__.py:1298: ComplexWarning: Casting complex values to real discards the imaginary part\n",
      "  return np.asarray(x, float)\n"
     ]
    },
    {
     "data": {
      "image/png": "[encoded data removed]",
      "text/plain": [
       "<Figure size 432x360 with 2 Axes>"
      ]
     },
     "metadata": {
      "needs_background": "light"
     },
     "output_type": "display_data"
    }
   ],
   "source": [
    "fig = plt.figure(figsize=(6,5))\n",
    "gs = fig.add_gridspec(nrows=2, ncols=1)\n",
    "pos_ax = fig.add_subplot(gs[0,0])\n",
    "momentum_ax = fig.add_subplot(gs[1,0])\n",
    "\n",
    "position_plot = up.position_space_plot(state, fig, pos_ax)\n",
    "momentum_plot = up.momentum_space_plot(state, fig, momentum_ax)\n",
    "plots = up.Update_Plot_Collection(fig, position_plot, momentum_plot)\n",
    "\n",
    "plots.set_t(1)\n",
    "plots.plot()"
   ]
  }
 ],
 "metadata": {
  "interpreter": {
   "hash": "837c519a48be08d8749c778cb72b9b5aac116a087aa5d1d99ee0359dceff73e6"
  },
  "kernelspec": {
   "display_name": "Python 3.10.4 64-bit",
   "language": "python",
   "name": "python3"
  },
  "language_info": {
   "codemirror_mode": {
    "name": "ipython",
    "version": 3
   },
   "file_extension": ".py",
   "mimetype": "text/x-python",
   "name": "python",
   "nbconvert_exporter": "python",
   "pygments_lexer": "ipython3",
   "version": "3.10.4"
  },
  "orig_nbformat": 4
 },
 "nbformat": 4,
 "nbformat_minor": 2
}
