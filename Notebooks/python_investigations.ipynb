{
 "cells": [
  {
   "cell_type": "code",
   "execution_count": 1,
   "source": [
    "class Some_properties:\r\n",
    "    def __init__(self, p1, p2):\r\n",
    "        self._p1 = p1\r\n",
    "        self._p2 = p2\r\n",
    "            \r\n",
    "    def __str__(self):\r\n",
    "        return \"p1: \" + str(self._p1) + \", p2: \" + str(self._p2)\r\n",
    "\r\n",
    "class Composition:\r\n",
    "    def __init__(self, props: Some_properties):\r\n",
    "        self._props = props\r\n",
    "    \r\n",
    "    def print_props(self):\r\n",
    "        print(self._props)\r\n",
    "\r\n",
    "class Master:\r\n",
    "    def __init__(self, p1, p2):\r\n",
    "        self._master_props = Some_properties(p1, p2)\r\n",
    "        self._has_a = Composition(self._master_props)\r\n",
    "\r\n",
    "    def manip_props(self, v1, v2):\r\n",
    "        self._master_props._p1 = v1\r\n",
    "        self._master_props._p2 = v2\r\n",
    "\r\n",
    "\r\n",
    "\r\n",
    "master = Master(1, 2)\r\n",
    "master._has_a.print_props()\r\n",
    "master.manip_props(3, 4)\r\n",
    "master._has_a.print_props()\r\n",
    "    "
   ],
   "outputs": [
    {
     "output_type": "stream",
     "name": "stdout",
     "text": [
      "p1: 1, p2: 2\n",
      "p1: 3, p2: 4\n"
     ]
    }
   ],
   "metadata": {}
  },
  {
   "cell_type": "code",
   "execution_count": 2,
   "source": [
    "from __future__ import annotations\r\n",
    "\r\n",
    "class number:\r\n",
    "    def __init__(self, num: int) -> None:\r\n",
    "        self.eq_called = 0\r\n",
    "        self.n = num\r\n",
    "\r\n",
    "    def __add__(self, other: number) -> number:\r\n",
    "        return number(self.n + other.n)\r\n",
    "\r\n",
    "    def __sub__(self, other: number) -> number:\r\n",
    "        return self + (-1)*other\r\n",
    "\r\n",
    "    def __mul__(self, other: number | int) -> number:\r\n",
    "        if isinstance(other, int):\r\n",
    "            return number(self.n*other)\r\n",
    "        elif isinstance(other, type(self)):\r\n",
    "            print(\"other is of type(self) = \", type(self))\r\n",
    "            return number(self.n * other.n)\r\n",
    "\r\n",
    "    def __neg__(self) -> number:\r\n",
    "        return self*(-1)\r\n",
    "\r\n",
    "\r\n",
    "    def __rmul__(self, other: number | int) -> number:\r\n",
    "        print(\"rmul called\")\r\n",
    "        return self.__mul__(other)\r\n",
    "\r\n",
    "    def __str__(self) -> str:\r\n",
    "        return str(self.n)\r\n",
    "\r\n",
    "    def __eq__(self, other: number | int) -> bool:\r\n",
    "        self.eq_called += 1\r\n",
    "        if isinstance(other, number):\r\n",
    "            return self.n == other.n\r\n",
    "        elif isinstance(other, int):\r\n",
    "            return self.n == other\r\n",
    "    \r\n",
    "\r\n",
    "n1 = number(1)\r\n",
    "n2 = number(2)\r\n",
    "\r\n",
    "print(n1*n2)"
   ],
   "outputs": [
    {
     "output_type": "stream",
     "name": "stdout",
     "text": [
      "other is of type(self) =  <class '__main__.number'>\n",
      "2\n"
     ]
    }
   ],
   "metadata": {}
  },
  {
   "cell_type": "code",
   "execution_count": 3,
   "source": [
    "n1.eq_called = 0\r\n",
    "\r\n",
    "if n1 == 1:\r\n",
    "    print(\"is one\")\r\n",
    "elif n1 == 2:\r\n",
    "    print(\"is tow\")\r\n",
    "\r\n",
    "n1.eq_called"
   ],
   "outputs": [
    {
     "output_type": "stream",
     "name": "stdout",
     "text": [
      "is one\n"
     ]
    },
    {
     "output_type": "execute_result",
     "data": {
      "text/plain": [
       "1"
      ]
     },
     "metadata": {},
     "execution_count": 3
    }
   ],
   "metadata": {}
  },
  {
   "cell_type": "code",
   "execution_count": 4,
   "source": [
    "class Do_you_ref_int:\r\n",
    "    def __init__(self, num: int) -> None:\r\n",
    "        self._num = [num]\r\n",
    "\r\n",
    "dyri = Do_you_ref_int(1)\r\n",
    "a = dyri._num\r\n",
    "dyri._num.append(2)\r\n",
    "a"
   ],
   "outputs": [
    {
     "output_type": "execute_result",
     "data": {
      "text/plain": [
       "[1, 2]"
      ]
     },
     "metadata": {},
     "execution_count": 4
    }
   ],
   "metadata": {}
  },
  {
   "cell_type": "code",
   "execution_count": 3,
   "source": [
    "[] + [1,2] + [3,4]"
   ],
   "outputs": [
    {
     "output_type": "execute_result",
     "data": {
      "text/plain": [
       "[1, 2, 3, 4]"
      ]
     },
     "metadata": {},
     "execution_count": 3
    }
   ],
   "metadata": {}
  },
  {
   "cell_type": "code",
   "execution_count": 5,
   "source": [
    "class Parent:\r\n",
    "    pass\r\n",
    "\r\n",
    "class Child(Parent):\r\n",
    "    pass\r\n",
    "\r\n",
    "P = Parent()\r\n",
    "C = Child()\r\n",
    "isinstance(C, Parent)"
   ],
   "outputs": [
    {
     "output_type": "execute_result",
     "data": {
      "text/plain": [
       "True"
      ]
     },
     "metadata": {},
     "execution_count": 5
    }
   ],
   "metadata": {}
  },
  {
   "cell_type": "code",
   "execution_count": 3,
   "source": [
    "l = [2,3,4,5]\r\n",
    "if 1 not in l:\r\n",
    "    l.append(1)\r\n",
    "l"
   ],
   "outputs": [
    {
     "output_type": "execute_result",
     "data": {
      "text/plain": [
       "[2, 3, 4, 5, 1]"
      ]
     },
     "metadata": {},
     "execution_count": 3
    }
   ],
   "metadata": {}
  },
  {
   "cell_type": "code",
   "execution_count": 2,
   "source": [
    "class test:\r\n",
    "    def __init__(self) -> None:\r\n",
    "        self._var = 1\r\n",
    "    \r\n",
    "    @property\r\n",
    "    def var(self):\r\n",
    "        return self._var\r\n",
    "\r\n",
    "t = test()\r\n",
    "t.var = 2"
   ],
   "outputs": [
    {
     "output_type": "error",
     "ename": "AttributeError",
     "evalue": "can't set attribute",
     "traceback": [
      "\u001b[1;31m---------------------------------------------------------------------------\u001b[0m",
      "\u001b[1;31mAttributeError\u001b[0m                            Traceback (most recent call last)",
      "\u001b[1;32m<ipython-input-2-12bad45760db>\u001b[0m in \u001b[0;36m<module>\u001b[1;34m\u001b[0m\n\u001b[0;32m      8\u001b[0m \u001b[1;33m\u001b[0m\u001b[0m\n\u001b[0;32m      9\u001b[0m \u001b[0mt\u001b[0m \u001b[1;33m=\u001b[0m \u001b[0mtest\u001b[0m\u001b[1;33m(\u001b[0m\u001b[1;33m)\u001b[0m\u001b[1;33m\u001b[0m\u001b[1;33m\u001b[0m\u001b[0m\n\u001b[1;32m---> 10\u001b[1;33m \u001b[0mt\u001b[0m\u001b[1;33m.\u001b[0m\u001b[0mvar\u001b[0m \u001b[1;33m=\u001b[0m \u001b[1;36m2\u001b[0m\u001b[1;33m\u001b[0m\u001b[1;33m\u001b[0m\u001b[0m\n\u001b[0m",
      "\u001b[1;31mAttributeError\u001b[0m: can't set attribute"
     ]
    }
   ],
   "metadata": {}
  },
  {
   "cell_type": "code",
   "execution_count": 4,
   "source": [
    "import numpy as np\r\n",
    "\r\n",
    "def get_interval(lhs_state, rhs_state):\r\n",
    "    n_range = 100\r\n",
    "    n_center = (lhs_state+rhs_state)//2\r\n",
    "    n_range_adapted = abs(lhs_state-rhs_state)//2+n_range\r\n",
    "    n_range_u = n_range_adapted\r\n",
    "    n_range_d = n_range_adapted if n_center > n_range_adapted else n_center\r\n",
    "\r\n",
    "    n_p = np.arange(n_center-n_range_d+1, n_center+n_range_u+1, 1)\r\n",
    "    n_n = np.arange(-n_center-n_range_u, -n_center+n_range_d+1, 1)\r\n",
    "    n = np.append(n_n, n_p)\r\n",
    "    return n\r\n",
    "\r\n",
    "n = get_interval(500, 200)"
   ],
   "outputs": [],
   "metadata": {}
  },
  {
   "cell_type": "code",
   "execution_count": 1,
   "source": [
    "def i_factor(l):\r\n",
    "    return (-1j)**(l**2)\r\n",
    "i_factor(9)"
   ],
   "outputs": [],
   "metadata": {}
  },
  {
   "cell_type": "code",
   "execution_count": 16,
   "source": [
    "class Class_Method_Test:\r\n",
    "    def __init__(self, num) -> None:\r\n",
    "        self.num = num\r\n",
    "\r\n",
    "    def num_x_2(self):\r\n",
    "        return 2*self.num\r\n",
    "\r\n",
    "    @classmethod\r\n",
    "    def alt_init(self, num):\r\n",
    "        self.num = num\r\n",
    "        return self(num)\r\n",
    "\r\n",
    "cmt = Class_Method_Test(1)\r\n",
    "cmt2 = Class_Method_Test.alt_init(2)\r\n",
    "cmt2.num_x_2()"
   ],
   "outputs": [
    {
     "output_type": "execute_result",
     "data": {
      "text/plain": [
       "4"
      ]
     },
     "metadata": {},
     "execution_count": 16
    }
   ],
   "metadata": {}
  },
  {
   "cell_type": "code",
   "execution_count": 11,
   "source": [
    "class Test:\r\n",
    "    b = 10\r\n",
    "\r\n",
    "    def __init__(self):\r\n",
    "        pass\r\n",
    "\r\n",
    "    @classmethod\r\n",
    "    def alt_init(cls, b):\r\n",
    "        obj = Test()\r\n",
    "        obj.b = 14\r\n",
    "        return obj\r\n",
    "\r\n",
    "    @classmethod\r\n",
    "    def mb(cls, new_b):\r\n",
    "        cls.b = new_b\r\n",
    "\r\n",
    "    @classmethod\r\n",
    "    def print_b(cls):\r\n",
    "        print(cls.b)\r\n",
    "\r\n",
    "test = Test.alt_init(14)\r\n",
    "test.print_b()"
   ],
   "outputs": [
    {
     "output_type": "stream",
     "name": "stdout",
     "text": [
      "10\n"
     ]
    }
   ],
   "metadata": {}
  },
  {
   "cell_type": "code",
   "execution_count": 5,
   "source": [
    "dic = {\"a\":1, \"b\":2, \"c\":4}\r\n",
    "for key, value in dic.items():\r\n",
    "    print(key, \"==\", value)"
   ],
   "outputs": [
    {
     "output_type": "stream",
     "name": "stdout",
     "text": [
      "a == 1\n",
      "b == 2\n",
      "c == 4\n"
     ]
    }
   ],
   "metadata": {}
  }
 ],
 "metadata": {
  "interpreter": {
   "hash": "b3ba2566441a7c06988d0923437866b63cedc61552a5af99d1f4fb67d367b25f"
  },
  "kernelspec": {
   "name": "python3",
   "display_name": "Python 3.8.11 64-bit ('base': conda)"
  },
  "language_info": {
   "name": "python",
   "version": "3.8.11",
   "mimetype": "text/x-python",
   "codemirror_mode": {
    "name": "ipython",
    "version": 3
   },
   "pygments_lexer": "ipython3",
   "nbconvert_exporter": "python",
   "file_extension": ".py"
  },
  "orig_nbformat": 4
 },
 "nbformat": 4,
 "nbformat_minor": 2
}