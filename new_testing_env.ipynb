{
 "cells": [
  {
   "cell_type": "code",
   "execution_count": 1,
   "metadata": {},
   "outputs": [],
   "source": [
    "import particle_in_a_box as pib\n",
    "import numpy as np\n",
    "from matplotlib import pyplot as plt\n",
    "from matplotlib.animation import FuncAnimation\n",
    "\n",
    "lightColor = \"#8bb1cc\"\n",
    "darkColor = \"#0f4c75\"\n",
    "\n",
    "plt.rcParams[\"text.usetex\"] = False\n",
    "plt.rcParams['font.family'] = 'serif'\n",
    "plt.rcParams['font.serif'] = 'Dejavu Serif'\n",
    "plt.rcParams[\"mathtext.fontset\"] = \"cm\"\n",
    "plt.rcParams['animation.writer'] = 'ffmpeg'\n",
    "plt.rcParams[\"animation.html\"] = \"jshtml\"\n",
    "plt.rcParams['animation.ffmpeg_path'] = 'C:\\\\ffmpeg\\\\bin\\\\ffmpeg.exe'"
   ]
  },
  {
   "cell_type": "code",
   "execution_count": 2,
   "metadata": {},
   "outputs": [
    {
     "output_type": "stream",
     "name": "stdout",
     "text": [
      "adding state(s):  [1, 2, 3, 4]\n< 1 | x | 2 > = (0.5658846023576151+0j)\n< 3 | x | 2 > = (-0.6111553705462235+0j)\n< 1 | x | 4 > = (-0.045270768188610415+0j)\n< 3 | x | 4 > = 0.6236279291287992\ncurrent config:  [1, 2, 3, 4]\nenergy expectation value:  3.7499952253562663\nadding state(s):  [100, 101]\n< 1 | x | 2 > = (0.5658846023576151+0j)\n< 3 | x | 2 > = (-0.6111553705462235+0j)\n< 1 | x | 4 > = (-0.045270768188610415+0j)\n< 3 | x | 4 > = 0.6236279291287992\n< 1 | x | 100 > = (-2.5469900828619447e-06+0j)\n< 3 | x | 100 > = 7.653211713497383e-06\n< 101 | x | 2 > = (4.947057083247497e-06+0j)\n< 101 | x | 4 > = -9.91744245502812e-06\n< 101 | x | 100 > = -0.6366044201171646\ncurrent config:  [1, 2, 3, 4, 100, 101]\nenergy expectation value:  1685.9145200929543\nremoving state(s):  [1, 2, 3, 4]\n< 101 | x | 100 > = -0.6366044201171646\ncurrent config:  [100, 101]\nenergy expectation value:  5050.243569828148\nRecomputing every property that depends on L or gamma...\n< 101 | x | 100 > = -0.6366358486278333\nNormalized Coeffs:  [0.70710678 0.70710678]\nstart exp val:  -0.6366358486278332\n"
     ]
    }
   ],
   "source": [
    "gamma = 1000000\n",
    "L = np.pi\n",
    "m = 1\n",
    "\n",
    "myState = pib.Particle_in_Box_State(gamma, L, m, [1,2,3,4], [1,1,1,1])\n",
    "myState.add_state([100, 101], [1,1])\n",
    "myState.remove_state([1,2,3,4])\n",
    "myState.gamma = 0.00001\n",
    "\n",
    "print(\"Normalized Coeffs: \", np.abs(myState._esp._energy_proj_coeffs))\n",
    "print(\"start exp val: \", myState._xsp._expectation_value(0))"
   ]
  },
  {
   "cell_type": "code",
   "execution_count": null,
   "metadata": {},
   "outputs": [],
   "source": [
    "x = np.arange(-L/2, L/2, 0.01)\n",
    "kb = 15\n",
    "k = np.arange(-kb, kb+0.01, 0.01)\n",
    "kn = np.arange(-kb, kb+1, 1)\n",
    "\n",
    "x_space_wavefunc = myState.x_space_wavefunction\n",
    "x_exp_val = myState._xsp._expectation_value\n",
    "k_space_wavefunc = myState.k_space_wavefunction\n",
    "new_k_space_wavefunc = myState.new_k_space_wavefunction\n",
    "\n",
    "fig = plt.figure(constrained_layout=True)\n",
    "gs = fig.add_gridspec(nrows=2, ncols=1, height_ratios=[1,1])\n",
    "kDistrPlot = fig.add_subplot(gs[1,0])\n",
    "xDistrPlot = fig.add_subplot(gs[0, 0])\n",
    "\n",
    "k_lines = kDistrPlot.plot(k, np.abs(k_space_wavefunc(k, 0)**2), animated=True, color = darkColor)\n",
    "x_lines = xDistrPlot.plot(x, np.abs(x_space_wavefunc(x, 0)**2), animated=True, color = darkColor)\n",
    "k_bars = kDistrPlot.bar(kn, np.abs(new_k_space_wavefunc(kn, 0))**2, animated=True, color = lightColor)\n",
    "x_exp_line = xDistrPlot.axvline(x_exp_val(0), animated=True, color = darkColor)\n",
    "\n",
    "fps = 20\n",
    "time = 2\n",
    "speed = 0.05\n",
    "if myState._sp._num_energy_states == 2:\n",
    "    time = 2*np.pi/abs(myState._esp._energies[0]-myState._esp._energies[1])/speed\n",
    "    print(\"auto setting time to: \", time)\n",
    "\n",
    "time_per_frame = 1/fps*speed\n",
    "num_frames = time*fps\n",
    "\n",
    "def init():\n",
    "    return x_lines + k_lines + [x_exp_line] + list(k_bars)\n",
    "\n",
    "def animate(i):\n",
    "    x_lines[0].set_data(x, np.abs(x_space_wavefunc(x, time_per_frame*i))**2)\n",
    "    k_lines[0].set_data(k, np.abs(k_space_wavefunc(k, time_per_frame*i))**2)\n",
    "    x_ev = x_exp_val(time_per_frame*i)\n",
    "    x_exp_line.set_data([x_ev, x_ev],[0,1])\n",
    "\n",
    "    for bar, h in zip(k_bars, np.abs(new_k_space_wavefunc(kn, i*time_per_frame))**2):\n",
    "        bar.set_height(h)\n",
    "    return x_lines + k_lines + [x_exp_line] + list(k_bars)\n",
    "\n",
    "anim = FuncAnimation(fig, animate, init_func=init, frames=int(num_frames), interval=int(1/fps*1000), blit=True)\n",
    "anim\n"
   ]
  },
  {
   "cell_type": "code",
   "execution_count": null,
   "metadata": {},
   "outputs": [],
   "source": [
    "class Some_properties:\n",
    "    def __init__(self, p1, p2):\n",
    "        self._p1 = p1\n",
    "        self._p2 = p2\n",
    "    \n",
    "    def __str__(self):\n",
    "        return \"p1: \" + str(self._p1) + \", p2: \" + str(self._p2)\n",
    "\n",
    "class Composition:\n",
    "    def __init__(self, props: Some_properties):\n",
    "        self._props = props\n",
    "    \n",
    "    def print_props(self):\n",
    "        print(self._props)\n",
    "\n",
    "class Master:\n",
    "    def __init__(self, p1, p2):\n",
    "        self._master_props = Some_properties(p1, p2)\n",
    "        self._has_a = Composition(self._master_props)\n",
    "\n",
    "    def manip_props(self, v1, v2):\n",
    "        self._master_props._p1 = v1\n",
    "        self._master_props._p2 = v2\n",
    "\n",
    "\n",
    "\n",
    "master = Master(1, 2)\n",
    "master._has_a.print_props()\n",
    "master.manip_props(3, 4)\n",
    "master._has_a.print_props()\n",
    "    "
   ]
  }
 ],
 "metadata": {
  "interpreter": {
   "hash": "b3ba2566441a7c06988d0923437866b63cedc61552a5af99d1f4fb67d367b25f"
  },
  "kernelspec": {
   "name": "python388jvsc74a57bd0b3ba2566441a7c06988d0923437866b63cedc61552a5af99d1f4fb67d367b25f",
   "display_name": "Python 3.8.8 64-bit ('base': conda)"
  },
  "language_info": {
   "codemirror_mode": {
    "name": "ipython",
    "version": 3
   },
   "file_extension": ".py",
   "mimetype": "text/x-python",
   "name": "python",
   "nbconvert_exporter": "python",
   "pygments_lexer": "ipython3",
   "version": "3.8.8"
  },
  "orig_nbformat": 3
 },
 "nbformat": 4,
 "nbformat_minor": 2
}