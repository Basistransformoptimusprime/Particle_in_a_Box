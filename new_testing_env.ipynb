{
 "cells": [
  {
   "cell_type": "code",
   "execution_count": null,
   "metadata": {},
   "outputs": [],
   "source": [
    "from __future__ import annotations\r\n",
    "\r\n",
    "import particle_in_a_box as pib\r\n",
    "import numpy as np\r\n",
    "from matplotlib import pyplot as plt\r\n",
    "from matplotlib.animation import FuncAnimation\r\n",
    "import default_plot as dp\r\n",
    "\r\n",
    "plt.rcParams[\"text.usetex\"] = False\r\n",
    "plt.rcParams['font.family'] = 'serif'\r\n",
    "plt.rcParams['font.serif'] = 'Dejavu Serif'\r\n",
    "plt.rcParams[\"mathtext.fontset\"] = \"cm\"\r\n",
    "plt.rcParams['animation.writer'] = 'ffmpeg'\r\n",
    "plt.rcParams[\"animation.html\"] = \"jshtml\""
   ]
  },
  {
   "cell_type": "code",
   "execution_count": null,
   "metadata": {},
   "outputs": [],
   "source": [
    "L = np.pi\r\n",
    "m = 1\r\n",
    "test_states = list(range(0, 4))\r\n",
    "test_amps = np.ones(4)\r\n",
    "test_gamma = 10\r\n",
    "\r\n",
    "test_state_normal = pib.Particle_in_Box_State(\"symmetric\", L, m, test_states, test_amps, test_gamma)\r\n",
    "test_state_immediate = pib.Particle_in_Box_Immediate_Mode(\"symmetric\", L, m, test_states, test_amps, test_gamma)"
   ]
  },
  {
   "cell_type": "code",
   "execution_count": null,
   "metadata": {},
   "outputs": [],
   "source": [
    "fig = plt.figure(constrained_layout=True, figsize=(10, 6))\r\n",
    "gs = fig.add_gridspec(nrows=2, ncols=2)\r\n",
    "p1 = dp.Position_Space_Plot(test_state_normal, fig, gs, [0,0])\r\n",
    "p2 = dp.Position_Space_Plot(test_state_immediate, fig, gs, [0,1])\r\n",
    "p3 = dp.Momentum_Space_Plot(test_state_normal, fig, gs, [1,0])\r\n",
    "p4 = dp.Momentum_Space_Plot(test_state_immediate, fig, gs, [1,1])\r\n",
    "p1.expectation_value = True\r\n",
    "p2.expectation_value = True\r\n",
    "p3.expectation_value = True\r\n",
    "p4.expectation_value = True\r\n",
    "dp.Multi_Plot(p1, p2, p3, p4).plot(0)"
   ]
  },
  {
   "cell_type": "code",
   "execution_count": null,
   "metadata": {},
   "outputs": [],
   "source": [
    "L = np.pi\r\n",
    "m = 1\r\n",
    "test_states = [0, 1, 2, 3]\r\n",
    "test_amps = [1, 1, 1, 1]\r\n",
    "test_gamma = -1\r\n",
    "\r\n",
    "test_state_analytic = pib.Particle_in_Box_State(\"symmetric\", L, m, test_states, test_amps, test_gamma)\r\n",
    "test_state_nummeric = pib.Particle_in_Box_State(\"symmetric_nummeric\", L, m, test_states, test_amps, test_gamma)"
   ]
  },
  {
   "cell_type": "code",
   "execution_count": null,
   "metadata": {},
   "outputs": [],
   "source": [
    "# Test Ehrenfest\r\n",
    "theta = 3*np.pi\r\n",
    "gamma = -5\r\n",
    "test_state_analytic.theta = theta\r\n",
    "test_state_nummeric.theta = theta\r\n",
    "test_state_analytic.gamma = gamma\r\n",
    "test_state_nummeric.gamma = gamma\r\n",
    "dp.Expectation_Value_Plot(test_state_nummeric).plot(np.linspace(0, 5, 300))"
   ]
  },
  {
   "cell_type": "code",
   "execution_count": null,
   "metadata": {},
   "outputs": [],
   "source": [
    "t = 0.5\r\n",
    "\r\n",
    "fig = plt.figure(figsize=(8,4))\r\n",
    "test_state_analytic.theta = 0\r\n",
    "momentum_plot = dp.Momentum_Space_Plot(test_state_analytic, fig)\r\n",
    "momentum_plot.set_n_bound(10)\r\n",
    "momentum_plot.expectation_value = True\r\n",
    "momentum_plot.plot(t)\r\n",
    "\r\n",
    "\r\n",
    "fps = 10\r\n",
    "time = 10\r\n",
    "num_frames = fps*time\r\n",
    "\r\n",
    "def animframe(i):\r\n",
    "    test_state_analytic.theta = i/num_frames*2*np.pi\r\n",
    "    momentum_plot.update()\r\n",
    "    k_ev = momentum_plot.k_exp_val(t)\r\n",
    "    momentum_plot.k_exp_line.set_data([k_ev, k_ev], [0, 1])\r\n",
    "    for bar, h, pos in zip(momentum_plot.k_bars, np.abs(momentum_plot.new_k_space_wavefunc(momentum_plot.n, t))**2, momentum_plot.kn):\r\n",
    "        bar.set_height(h)\r\n",
    "        bar.set_x(pos - bar.get_width()/2)\r\n",
    "    return list(momentum_plot.k_bars) + [momentum_plot.k_exp_line] + momentum_plot.k_lines\r\n",
    "\r\n",
    "anim = FuncAnimation(fig, animframe, frames=int(num_frames), interval=int(1/fps*1000), blit=True)\r\n",
    "anim"
   ]
  },
  {
   "cell_type": "code",
   "execution_count": null,
   "metadata": {},
   "outputs": [],
   "source": [
    "expectation_value_plot = dp.Expectation_Value_Plot(test_state_nummeric)\r\n",
    "\r\n",
    "T = 11\r\n",
    "eps = 0.075\r\n",
    "fps = 21\r\n",
    "num_frames = fps*T\r\n",
    "\r\n",
    "test_state_nummeric.gamma = np.tan(-np.pi/2+eps)\r\n",
    "test_state_nummeric.case = \"symmetric_nummeric\"\r\n",
    "\r\n",
    "test_state_nummeric.reset()\r\n",
    "test_state_nummeric.add_state([0, 1, 2, 3], [1, 1, 1, 1])\r\n",
    "\r\n",
    "time = np.linspace(0, 5, 500)\r\n",
    "\r\n",
    "expectation_value_plot.axis.set_ylim([-1.5, 1.5])\r\n",
    "expectation_value_plot.plot(time)\r\n",
    "text = expectation_value_plot.axis.text(4, -1, r\"$\\gamma$: \" + str(round(test_state_nummeric.gamma)), animated=True)\r\n",
    "\r\n",
    "eneries = test_state_nummeric.energy_space_wavefunction.energies\r\n",
    "energy_texts = \"states | energies: \\n\"\r\n",
    "for i in range(test_state_nummeric._sp.num_energy_states):\r\n",
    "    energy_texts += str(test_state_nummeric._sp.energy_states[i]) + \" | \" +str(round(eneries[i], 4)) + \"\\n\"\r\n",
    "\r\n",
    "energy_text = expectation_value_plot.axis.text(2, -1.5, energy_texts, animated=True)\r\n",
    "expectation_value_plot.axis.legend(loc=\"lower left\")\r\n",
    "\r\n",
    "\r\n",
    "def animate_frame(i):\r\n",
    "    test_state_nummeric.gamma = np.tan(-np.pi/2+eps + (i/fps)*(np.pi-2*eps)/T)\r\n",
    "    #test_state_nummeric.gamma = (-2/test_state_nummeric.L - eps) + (i/fps)*(2*eps/T) \r\n",
    "\r\n",
    "    expectation_value_plot.update()\r\n",
    "    text.set_text(r\"$\\gamma$: \" + str(round(test_state_nummeric.gamma, 4)))\r\n",
    "\r\n",
    "    energy_texts = \"states | energies: \\n\"\r\n",
    "    for i in range(test_state_nummeric._sp.num_energy_states):\r\n",
    "        energy_texts += str(test_state_nummeric._sp.energy_states[i]) + \" | \" +str(round(eneries[i], 4)) + \"\\n\"\r\n",
    "    energy_text.set_text(energy_texts)\r\n",
    "\r\n",
    "\r\n",
    "    expectation_value_plot.x_exp_line[0].set_data(time, test_state_nummeric.x_space_expectation_value(time))\r\n",
    "    expectation_value_plot.k_exp_line[0].set_data(time, test_state_nummeric.new_k_space_expectation_value(time))\r\n",
    "    expectation_value_plot.x_exp_deriv_line[0].set_data(time, test_state_nummeric.m * test_state_nummeric.x_space_expectation_value_derivative(time))\r\n",
    "\r\n",
    "    return expectation_value_plot.x_exp_line + expectation_value_plot.k_exp_line + expectation_value_plot.x_exp_deriv_line\r\n",
    "\r\n",
    "anim = FuncAnimation(expectation_value_plot.fig, animate_frame, frames=int(num_frames), interval=int(1/fps*1000), blit=True)\r\n",
    "\r\n"
   ]
  },
  {
   "cell_type": "code",
   "execution_count": null,
   "metadata": {},
   "outputs": [],
   "source": [
    "fig = plt.figure()\r\n",
    "gs = fig.add_gridspec(nrows=2, ncols=1)\r\n",
    "test_state_nummeric.reset()\r\n",
    "test_state_nummeric.add_state([0, 1, 2],[1, 1, 1])\r\n",
    "test_state_nummeric.gamma = -1\r\n",
    "momentum_plot = dp.Momentum_Space_Plot(test_state_nummeric, fig, gs, [1,0])\r\n",
    "position_plot = dp.Position_Space_Plot(test_state_nummeric, fig, gs, [0,0])\r\n",
    "momentum_plot.expectation_value = True\r\n",
    "position_plot.expectation_value = True\r\n",
    "momentum_plot.axis.set_ylim([0, 0.5])\r\n",
    "momentum_plot.set_n_bound(10)\r\n",
    "dp.Multi_Plot(position_plot, momentum_plot).animate(20, 50, 3)"
   ]
  },
  {
   "cell_type": "code",
   "execution_count": null,
   "metadata": {},
   "outputs": [],
   "source": [
    "gamma = 10\r\n",
    "L = np.pi\r\n",
    "m = 1\r\n",
    "states = [1,2,3,4,5,6]\r\n",
    "amps = [1,0.5,0.25,0.125,0.1,0.1]\r\n",
    "\r\n",
    "\r\n",
    "myState = pib.Particle_in_Box_State(\"symmetric\", L, m, states, amps, gamma)\r\n",
    "myState.case = \"dirichlet_neumann\"\r\n",
    "\r\n",
    "myState.x_space_wavefunction(L/2, 0)"
   ]
  },
  {
   "cell_type": "code",
   "execution_count": null,
   "metadata": {},
   "outputs": [],
   "source": [
    "myState = pib.Particle_in_Box_State(\"dirichlet\", np.pi, 1, [1,2,3,4], [1,1,1,1])"
   ]
  },
  {
   "cell_type": "code",
   "execution_count": null,
   "metadata": {},
   "outputs": [],
   "source": [
    "fig = plt.figure(constrained_layout = True, figsize=(6,5))\r\n",
    "gs = fig.add_gridspec(nrows=2, ncols=1)\r\n",
    "\r\n",
    "myState.case = \"dirichlet_neumann\"\r\n",
    "position_plot = dp.Position_Space_Plot(myState, fig, gs, [0,0])\r\n",
    "momentum_plot = dp.Momentum_Space_Plot(myState, fig, gs, [1,0])\r\n",
    "momentum_plot.set_n_bound(15)\r\n",
    "momentum_plot.axis.set_ylim([0, 0.5])\r\n",
    "\r\n",
    "\r\n",
    "position_plot.expectation_value = True\r\n",
    "momentum_plot.expectation_value = True\r\n",
    "\r\n",
    "combined_plot = dp.Multi_Plot(position_plot, momentum_plot)\r\n",
    "combined_plot.animate(20, 3, 1)\r\n",
    "#myState.energy_space_wavefunction.energies"
   ]
  },
  {
   "cell_type": "code",
   "execution_count": null,
   "metadata": {},
   "outputs": [],
   "source": [
    "carpet_plot = dp.Carpet_Plot(myState)\r\n",
    "carpet_plot.x_interval = [-2, 2]\r\n",
    "\r\n",
    "myState.reset()\r\n",
    "myState.add_state([2,3], [1,1])\r\n",
    "myState.m = 1\r\n",
    "myState.case = \"dirichlet\"\r\n",
    "\r\n",
    "carpet_plot.x_res = 150\r\n",
    "time = np.linspace(0, 5, 50)\r\n",
    "carpet_plot.plot(time)\r\n"
   ]
  },
  {
   "cell_type": "code",
   "execution_count": null,
   "metadata": {},
   "outputs": [],
   "source": [
    "testState = pib.Particle_in_Box_State(\"symmetric\", np.pi, 1, [0, 1, 2, 3], [1, 1, 1, 1], -2)\r\n",
    "expectation_value_plot = dp.Expectation_Value_Plot(testState)\r\n",
    "time = np.linspace(0, 5, 300)\r\n",
    "expectation_value_plot.plot(time)"
   ]
  },
  {
   "cell_type": "code",
   "execution_count": null,
   "metadata": {},
   "outputs": [],
   "source": [
    "# Gaussian Playground\r\n",
    "import Special_States as special\r\n",
    "\r\n",
    "case = \"dirichlet\"\r\n",
    "L = np.pi\r\n",
    "m = 1\r\n",
    "a = L/10\r\n",
    "l_0 = 80\r\n",
    "l_range = 40\r\n",
    "gaussian = special.Bouncing_Gaussian(case, L, m, l_0, l_range, a)\r\n",
    "\r\n",
    "T = ((4*m*L**2)/np.pi)\r\n",
    "\r\n",
    "fig = plt.figure(constrained_layout=True)\r\n",
    "gs = fig.add_gridspec(nrows=2, ncols=1)\r\n",
    "gaussian_pos = dp.Position_Space_Plot(gaussian, fig, gs, [0,0])\r\n",
    "gaussian_pos.set_resolution(5000)\r\n",
    "gaussian_momentum = dp.Momentum_Space_Plot(gaussian, fig, gs, [1,0])\r\n",
    "gaussian_momentum.set_resolution(1000)\r\n",
    "\r\n",
    "gaussian_momentum.expectation_value = True\r\n",
    "gaussian_pos.expectation_value = True\r\n",
    "\r\n",
    "\r\n",
    "gaussian_plot = dp.Multi_Plot(gaussian_pos, gaussian_momentum)\r\n",
    "gaussian_momentum.set_n_bound(100)\r\n",
    "gaussian_momentum.axis.set_ylim([0, 0.25])\r\n",
    "\r\n",
    "gaussian_plot.plot(T/4)\r\n",
    "\r\n",
    "#gaussian_plot.animate(20, 1, 0.05)"
   ]
  },
  {
   "cell_type": "code",
   "execution_count": null,
   "metadata": {},
   "outputs": [],
   "source": [
    "import numpy as np\r\n",
    "import matplotlib.pyplot as plt\r\n",
    "from scipy.integrate import quad\r\n",
    "from matplotlib.animation import FuncAnimation\r\n",
    "\r\n",
    "def approx_sum(N, L, x):\r\n",
    "    out = 0\r\n",
    "    for n in range(-N, N+1):\r\n",
    "        out += np.exp(-1j*n*np.pi*x/L)\r\n",
    "    \r\n",
    "    return out\r\n",
    "\r\n",
    "fps = 10\r\n",
    "time = 10\r\n",
    "num_frames = time*fps\r\n",
    "\r\n",
    "\r\n",
    "x = np.linspace(0, 1, 1000)\r\n",
    "\"\"\"\r\n",
    "fig = plt.figure()\r\n",
    "lines = plt.plot(x, approx_sum(100,x)*np.cos(x))\r\n",
    "def anim(i):\r\n",
    "    lines[0].set_data(x, approx_sum(i, x)*np.cos(x))\r\n",
    "    return lines\r\n",
    "\"\"\"\r\n",
    "L = 2.1\r\n",
    "#anim = FuncAnimation(fig, anim, frames=int(num_frames), interval=int(1/fps*1000), blit=True)\r\n",
    "quad(lambda x: approx_sum(500, L, x)*(x**2+1), 0, 1, limit=500)"
   ]
  },
  {
   "cell_type": "code",
   "execution_count": null,
   "metadata": {},
   "outputs": [],
   "source": [
    "32**2"
   ]
  }
 ],
 "metadata": {
  "interpreter": {
   "hash": "b3ba2566441a7c06988d0923437866b63cedc61552a5af99d1f4fb67d367b25f"
  },
  "kernelspec": {
   "display_name": "Python 3.8.8 64-bit ('base': conda)",
   "name": "python3"
  },
  "language_info": {
   "codemirror_mode": {
    "name": "ipython",
    "version": 3
   },
   "file_extension": ".py",
   "mimetype": "text/x-python",
   "name": "python",
   "nbconvert_exporter": "python",
   "pygments_lexer": "ipython3",
   "version": "3.8.8"
  },
  "orig_nbformat": 3
 },
 "nbformat": 4,
 "nbformat_minor": 2
}