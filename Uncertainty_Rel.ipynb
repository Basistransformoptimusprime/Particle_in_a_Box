{
 "metadata": {
  "language_info": {
   "codemirror_mode": {
    "name": "ipython",
    "version": 3
   },
   "file_extension": ".py",
   "mimetype": "text/x-python",
   "name": "python",
   "nbconvert_exporter": "python",
   "pygments_lexer": "ipython3",
   "version": "3.8.8"
  },
  "orig_nbformat": 2,
  "kernelspec": {
   "name": "python388jvsc74a57bd0b3ba2566441a7c06988d0923437866b63cedc61552a5af99d1f4fb67d367b25f",
   "display_name": "Python 3.8.8 64-bit ('base': conda)"
  }
 },
 "nbformat": 4,
 "nbformat_minor": 2,
 "cells": [
  {
   "cell_type": "code",
   "execution_count": 1,
   "metadata": {},
   "outputs": [],
   "source": [
    "import sympy as sp\n",
    "from sympy import Matrix, solve_linear_system"
   ]
  },
  {
   "cell_type": "code",
   "execution_count": 3,
   "metadata": {},
   "outputs": [],
   "source": [
    "d1, d2, d3, d4=sp.symbols(\"d_1:5\")\n",
    "Ep2, Ex, Ex2, a, b, c = sp.symbols(r\"\\left<p^2\\right>, \\left<x\\right>, \\left<x^2\\right>, a, b, c\")\n",
    "p, xp = sp.symbols(r\"\\overline{p}, \\overline{xp}\")\n",
    "Dx = sp.Symbol(\"\\Delta x\")\n",
    "ar, ai, br, bi = sp.symbols(r\"\\alpha_r, \\alpha_i, \\beta_r, \\beta_i\")"
   ]
  },
  {
   "cell_type": "code",
   "execution_count": 3,
   "metadata": {},
   "outputs": [],
   "source": [
    "def I(alphaR, alphaI, betaR, betaI):\n",
    "    return Ep2-b+(alphaR**2+alphaI**2)*Ex2+alphaR*(a-1)+2*alphaI*(xp)+betaR*(c)+2*betaI*(p)+betaR**2+betaI**2+2*(alphaR*betaR+alphaI*betaI)*Ex"
   ]
  },
  {
   "cell_type": "code",
   "execution_count": 4,
   "metadata": {},
   "outputs": [],
   "source": [
    "alphaR = (d1-Ex*d3)/(Dx**2)\n",
    "alphaI = (d2-Ex*d4)/(Dx**2)\n",
    "betaR = d3 - Ex*alphaR\n",
    "betaI = d4 - Ex*alphaI"
   ]
  },
  {
   "cell_type": "code",
   "execution_count": 6,
   "metadata": {},
   "outputs": [],
   "source": [
    "system = Matrix([[2*Ex2, 0, 2*Ex, 0, 1-a],\n",
    "                [0, 2*Ex2, 0, 2*Ex, -2*xp],\n",
    "                [2*Ex, 0, 2, 0, -c],\n",
    "                [0, 2*Ex, 0, 2, -2*p]])"
   ]
  },
  {
   "cell_type": "code",
   "execution_count": 7,
   "metadata": {},
   "outputs": [],
   "source": [
    "solution = solve_linear_system(system, ar, ai, br, bi)"
   ]
  },
  {
   "cell_type": "code",
   "execution_count": 8,
   "metadata": {},
   "outputs": [
    {
     "output_type": "execute_result",
     "data": {
      "text/plain": [
       "-(\\left<p^2\\right>*\\left<x\\right>**2 - \\left<p^2\\right>*\\left<x^2\\right> - \\left<x\\right>**2*b - 2*\\left<x\\right>*\\overline{p}*\\overline{xp} - \\left<x\\right>*a*c/2 + \\left<x\\right>*c/2 + \\left<x^2\\right>*\\overline{p}**2 + \\left<x^2\\right>*b + \\left<x^2\\right>*c**2/4 + \\overline{xp}**2 + a**2/4 - a/2 + 1/4)/\\Delta x**2"
      ],
      "text/latex": "$\\displaystyle - \\frac{\\left<p^2\\right> \\left<x\\right>^{2} - \\left<p^2\\right> \\left<x^2\\right> - \\left<x\\right>^{2} b - 2 \\left<x\\right> \\overline{p} \\overline{xp} - \\frac{\\left<x\\right> a c}{2} + \\frac{\\left<x\\right> c}{2} + \\left<x^2\\right> \\overline{p}^{2} + \\left<x^2\\right> b + \\frac{\\left<x^2\\right> c^{2}}{4} + \\overline{xp}^{2} + \\frac{a^{2}}{4} - \\frac{a}{2} + \\frac{1}{4}}{\\Delta x^{2}}$"
     },
     "metadata": {},
     "execution_count": 8
    }
   ],
   "source": [
    "sp.simplify(I(solution[ar], solution[ai], solution[br], solution[bi])).subs(Ex2-Ex**2, Dx**2)"
   ]
  },
  {
   "cell_type": "code",
   "execution_count": 12,
   "metadata": {},
   "outputs": [
    {
     "output_type": "execute_result",
     "data": {
      "text/plain": [
       "-(\\left<p^2\\right>*\\left<x\\right>**2 - \\left<p^2\\right>*\\left<x^2\\right> - 2*\\left<x\\right>*\\overline{p}*\\overline{xp} + \\left<x^2\\right>*\\overline{p}**2 + \\overline{xp}**2 + 1/4)/\\Delta x**2"
      ],
      "text/latex": "$\\displaystyle - \\frac{\\left<p^2\\right> \\left<x\\right>^{2} - \\left<p^2\\right> \\left<x^2\\right> - 2 \\left<x\\right> \\overline{p} \\overline{xp} + \\left<x^2\\right> \\overline{p}^{2} + \\overline{xp}^{2} + \\frac{1}{4}}{\\Delta x^{2}}$"
     },
     "metadata": {},
     "execution_count": 12
    }
   ],
   "source": [
    "sp.simplify(I(solution[ar], solution[ai], solution[br], solution[bi])).subs([(Ex2-Ex**2, Dx**2),(a,0),(b,0),(c,0)])"
   ]
  }
 ]
}