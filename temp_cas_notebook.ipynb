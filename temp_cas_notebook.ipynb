{
 "cells": [
  {
   "cell_type": "code",
   "execution_count": 16,
   "metadata": {},
   "outputs": [],
   "source": [
    "import sympy as sp"
   ]
  },
  {
   "cell_type": "code",
   "execution_count": 17,
   "metadata": {},
   "outputs": [
    {
     "data": {
      "text/latex": [
       "$\\displaystyle \\int\\limits_{0}^{L} \\sum_{n=-\\infty}^{\\infty} e^{- \\frac{i \\pi n x}{L}}\\, dx$"
      ],
      "text/plain": [
       "Integral(Sum(exp(-I*pi*n*x/L), (n, -oo, oo)), (x, 0, L))"
      ]
     },
     "execution_count": 17,
     "metadata": {},
     "output_type": "execute_result"
    }
   ],
   "source": [
    "x, L, n = sp.symbols(\"x, L, n\")\r\n",
    "g = sp.Function(\"g\")\r\n",
    "\r\n",
    "sp.integrate(sp.Sum(sp.exp(-sp.I*sp.pi/L*n*x), (n, -sp.oo, sp.oo)).doit(), (x, 0, L))"
   ]
  },
  {
   "cell_type": "code",
   "execution_count": 17,
   "metadata": {},
   "outputs": [
    {
     "data": {
      "text/latex": [
       "$\\displaystyle \\begin{cases} 0 & \\text{for}\\: \\left(\\kappa = 0 \\wedge k = 0\\right) \\vee \\left(\\kappa = 0 \\wedge \\kappa = - i k \\wedge k = 0\\right) \\vee \\left(\\kappa = 0 \\wedge \\kappa = i k \\wedge k = 0\\right) \\vee \\left(\\kappa = 0 \\wedge \\kappa = - i k \\wedge \\kappa = i k \\wedge k = 0\\right) \\\\\\frac{L \\sin^{2}{\\left(\\frac{L k}{2} \\right)}}{4 k} - \\frac{L \\cos^{2}{\\left(\\frac{L k}{2} \\right)}}{4 k} + \\frac{\\sin{\\left(\\frac{L k}{2} \\right)} \\cos{\\left(\\frac{L k}{2} \\right)}}{2 k^{2}} & \\text{for}\\: \\left(\\kappa = 0 \\wedge \\kappa = - i k\\right) \\vee \\left(\\kappa = 0 \\wedge \\kappa = i k\\right) \\vee \\left(\\kappa = - i k \\wedge \\kappa = i k\\right) \\vee \\left(\\kappa = - i k \\wedge k = 0\\right) \\vee \\left(\\kappa = i k \\wedge k = 0\\right) \\vee \\left(\\kappa = 0 \\wedge \\kappa = - i k \\wedge \\kappa = i k\\right) \\vee \\left(\\kappa = - i k \\wedge \\kappa = i k \\wedge k = 0\\right) \\vee \\kappa = - i k \\vee \\kappa = i k \\\\\\frac{L \\kappa^{3} \\sin{\\left(\\frac{L k}{2} \\right)} \\sinh{\\left(\\frac{L \\kappa}{2} \\right)}}{\\kappa^{4} + 2 \\kappa^{2} k^{2} + k^{4}} - \\frac{L \\kappa^{2} k \\cos{\\left(\\frac{L k}{2} \\right)} \\cosh{\\left(\\frac{L \\kappa}{2} \\right)}}{\\kappa^{4} + 2 \\kappa^{2} k^{2} + k^{4}} + \\frac{L \\kappa k^{2} \\sin{\\left(\\frac{L k}{2} \\right)} \\sinh{\\left(\\frac{L \\kappa}{2} \\right)}}{\\kappa^{4} + 2 \\kappa^{2} k^{2} + k^{4}} - \\frac{L k^{3} \\cos{\\left(\\frac{L k}{2} \\right)} \\cosh{\\left(\\frac{L \\kappa}{2} \\right)}}{\\kappa^{4} + 2 \\kappa^{2} k^{2} + k^{4}} - \\frac{2 \\kappa^{2} \\sin{\\left(\\frac{L k}{2} \\right)} \\cosh{\\left(\\frac{L \\kappa}{2} \\right)}}{\\kappa^{4} + 2 \\kappa^{2} k^{2} + k^{4}} + \\frac{4 \\kappa k \\cos{\\left(\\frac{L k}{2} \\right)} \\sinh{\\left(\\frac{L \\kappa}{2} \\right)}}{\\kappa^{4} + 2 \\kappa^{2} k^{2} + k^{4}} + \\frac{2 k^{2} \\sin{\\left(\\frac{L k}{2} \\right)} \\cosh{\\left(\\frac{L \\kappa}{2} \\right)}}{\\kappa^{4} + 2 \\kappa^{2} k^{2} + k^{4}} & \\text{otherwise} \\end{cases}$"
      ],
      "text/plain": [
       "Piecewise((0, (Eq(\\kappa, 0) & Eq(k, 0)) | (Eq(\\kappa, 0) & Eq(k, 0) & Eq(\\kappa, I*k)) | (Eq(\\kappa, 0) & Eq(k, 0) & Eq(\\kappa, -I*k)) | (Eq(\\kappa, 0) & Eq(k, 0) & Eq(\\kappa, I*k) & Eq(\\kappa, -I*k))), (L*sin(L*k/2)**2/(4*k) - L*cos(L*k/2)**2/(4*k) + sin(L*k/2)*cos(L*k/2)/(2*k**2), Eq(\\kappa, I*k) | Eq(\\kappa, -I*k) | (Eq(\\kappa, 0) & Eq(\\kappa, I*k)) | (Eq(k, 0) & Eq(\\kappa, I*k)) | (Eq(\\kappa, 0) & Eq(\\kappa, -I*k)) | (Eq(k, 0) & Eq(\\kappa, -I*k)) | (Eq(\\kappa, I*k) & Eq(\\kappa, -I*k)) | (Eq(\\kappa, 0) & Eq(\\kappa, I*k) & Eq(\\kappa, -I*k)) | (Eq(k, 0) & Eq(\\kappa, I*k) & Eq(\\kappa, -I*k))), (L*\\kappa**3*sin(L*k/2)*sinh(L*\\kappa/2)/(\\kappa**4 + 2*\\kappa**2*k**2 + k**4) - L*\\kappa**2*k*cos(L*k/2)*cosh(L*\\kappa/2)/(\\kappa**4 + 2*\\kappa**2*k**2 + k**4) + L*\\kappa*k**2*sin(L*k/2)*sinh(L*\\kappa/2)/(\\kappa**4 + 2*\\kappa**2*k**2 + k**4) - L*k**3*cos(L*k/2)*cosh(L*\\kappa/2)/(\\kappa**4 + 2*\\kappa**2*k**2 + k**4) - 2*\\kappa**2*sin(L*k/2)*cosh(L*\\kappa/2)/(\\kappa**4 + 2*\\kappa**2*k**2 + k**4) + 4*\\kappa*k*cos(L*k/2)*sinh(L*\\kappa/2)/(\\kappa**4 + 2*\\kappa**2*k**2 + k**4) + 2*k**2*sin(L*k/2)*cosh(L*\\kappa/2)/(\\kappa**4 + 2*\\kappa**2*k**2 + k**4), True))"
      ]
     },
     "execution_count": 17,
     "metadata": {},
     "output_type": "execute_result"
    }
   ],
   "source": [
    "x, k, kappa, L = sp.symbols(r\"x, k, \\kappa, L\", real=True)\r\n",
    "\r\n",
    "sp.integrate(sp.cosh(kappa*x)*sp.sin(k*x)*x, (x, -L/2, L/2))"
   ]
  },
  {
   "cell_type": "code",
   "execution_count": 18,
   "metadata": {},
   "outputs": [
    {
     "data": {
      "text/latex": [
       "$\\displaystyle \\begin{cases} 0 & \\text{for}\\: \\left(\\kappa = 0 \\wedge k = 0\\right) \\vee \\left(\\kappa = 0 \\wedge \\kappa = - i k \\wedge k = 0\\right) \\vee \\left(\\kappa = 0 \\wedge \\kappa = i k \\wedge k = 0\\right) \\vee \\left(\\kappa = 0 \\wedge \\kappa = - i k \\wedge \\kappa = i k \\wedge k = 0\\right) \\\\i \\left(- \\frac{L \\sin^{2}{\\left(\\frac{L k}{2} \\right)}}{8 k} + \\frac{L \\cos^{2}{\\left(\\frac{L k}{2} \\right)}}{8 k} - \\frac{\\sin{\\left(\\frac{L k}{2} \\right)} \\cos{\\left(\\frac{L k}{2} \\right)}}{4 k^{2}}\\right) - i \\left(\\frac{L \\sin^{2}{\\left(\\frac{L k}{2} \\right)}}{8 k} - \\frac{L \\cos^{2}{\\left(\\frac{L k}{2} \\right)}}{8 k} + \\frac{\\sin{\\left(\\frac{L k}{2} \\right)} \\cos{\\left(\\frac{L k}{2} \\right)}}{4 k^{2}}\\right) & \\text{for}\\: \\left(\\kappa = 0 \\wedge \\kappa = - i k\\right) \\vee \\left(\\kappa = - i k \\wedge \\kappa = i k\\right) \\vee \\left(\\kappa = - i k \\wedge k = 0\\right) \\vee \\left(\\kappa = 0 \\wedge \\kappa = - i k \\wedge \\kappa = i k\\right) \\vee \\left(\\kappa = - i k \\wedge \\kappa = i k \\wedge k = 0\\right) \\vee \\kappa = - i k \\\\- i \\left(- \\frac{L \\sin^{2}{\\left(\\frac{L k}{2} \\right)}}{8 k} + \\frac{L \\cos^{2}{\\left(\\frac{L k}{2} \\right)}}{8 k} - \\frac{\\sin{\\left(\\frac{L k}{2} \\right)} \\cos{\\left(\\frac{L k}{2} \\right)}}{4 k^{2}}\\right) + i \\left(\\frac{L \\sin^{2}{\\left(\\frac{L k}{2} \\right)}}{8 k} - \\frac{L \\cos^{2}{\\left(\\frac{L k}{2} \\right)}}{8 k} + \\frac{\\sin{\\left(\\frac{L k}{2} \\right)} \\cos{\\left(\\frac{L k}{2} \\right)}}{4 k^{2}}\\right) & \\text{for}\\: \\left(\\kappa = 0 \\wedge \\kappa = i k\\right) \\vee \\left(\\kappa = i k \\wedge k = 0\\right) \\vee \\kappa = i k \\\\\\frac{L \\kappa^{3} \\cos{\\left(\\frac{L k}{2} \\right)} \\cosh{\\left(\\frac{L \\kappa}{2} \\right)}}{\\kappa^{4} + 2 \\kappa^{2} k^{2} + k^{4}} + \\frac{L \\kappa^{2} k \\sin{\\left(\\frac{L k}{2} \\right)} \\sinh{\\left(\\frac{L \\kappa}{2} \\right)}}{\\kappa^{4} + 2 \\kappa^{2} k^{2} + k^{4}} + \\frac{L \\kappa k^{2} \\cos{\\left(\\frac{L k}{2} \\right)} \\cosh{\\left(\\frac{L \\kappa}{2} \\right)}}{\\kappa^{4} + 2 \\kappa^{2} k^{2} + k^{4}} + \\frac{L k^{3} \\sin{\\left(\\frac{L k}{2} \\right)} \\sinh{\\left(\\frac{L \\kappa}{2} \\right)}}{\\kappa^{4} + 2 \\kappa^{2} k^{2} + k^{4}} - \\frac{2 \\kappa^{2} \\cos{\\left(\\frac{L k}{2} \\right)} \\sinh{\\left(\\frac{L \\kappa}{2} \\right)}}{\\kappa^{4} + 2 \\kappa^{2} k^{2} + k^{4}} - \\frac{4 \\kappa k \\sin{\\left(\\frac{L k}{2} \\right)} \\cosh{\\left(\\frac{L \\kappa}{2} \\right)}}{\\kappa^{4} + 2 \\kappa^{2} k^{2} + k^{4}} + \\frac{2 k^{2} \\cos{\\left(\\frac{L k}{2} \\right)} \\sinh{\\left(\\frac{L \\kappa}{2} \\right)}}{\\kappa^{4} + 2 \\kappa^{2} k^{2} + k^{4}} & \\text{otherwise} \\end{cases}$"
      ],
      "text/plain": [
       "Piecewise((0, (Eq(\\kappa, 0) & Eq(k, 0)) | (Eq(\\kappa, 0) & Eq(k, 0) & Eq(\\kappa, I*k)) | (Eq(\\kappa, 0) & Eq(k, 0) & Eq(\\kappa, -I*k)) | (Eq(\\kappa, 0) & Eq(k, 0) & Eq(\\kappa, I*k) & Eq(\\kappa, -I*k))), (I*(-L*sin(L*k/2)**2/(8*k) + L*cos(L*k/2)**2/(8*k) - sin(L*k/2)*cos(L*k/2)/(4*k**2)) - I*(L*sin(L*k/2)**2/(8*k) - L*cos(L*k/2)**2/(8*k) + sin(L*k/2)*cos(L*k/2)/(4*k**2)), Eq(\\kappa, -I*k) | (Eq(\\kappa, 0) & Eq(\\kappa, -I*k)) | (Eq(k, 0) & Eq(\\kappa, -I*k)) | (Eq(\\kappa, I*k) & Eq(\\kappa, -I*k)) | (Eq(\\kappa, 0) & Eq(\\kappa, I*k) & Eq(\\kappa, -I*k)) | (Eq(k, 0) & Eq(\\kappa, I*k) & Eq(\\kappa, -I*k))), (-I*(-L*sin(L*k/2)**2/(8*k) + L*cos(L*k/2)**2/(8*k) - sin(L*k/2)*cos(L*k/2)/(4*k**2)) + I*(L*sin(L*k/2)**2/(8*k) - L*cos(L*k/2)**2/(8*k) + sin(L*k/2)*cos(L*k/2)/(4*k**2)), Eq(\\kappa, I*k) | (Eq(\\kappa, 0) & Eq(\\kappa, I*k)) | (Eq(k, 0) & Eq(\\kappa, I*k))), (L*\\kappa**3*cos(L*k/2)*cosh(L*\\kappa/2)/(\\kappa**4 + 2*\\kappa**2*k**2 + k**4) + L*\\kappa**2*k*sin(L*k/2)*sinh(L*\\kappa/2)/(\\kappa**4 + 2*\\kappa**2*k**2 + k**4) + L*\\kappa*k**2*cos(L*k/2)*cosh(L*\\kappa/2)/(\\kappa**4 + 2*\\kappa**2*k**2 + k**4) + L*k**3*sin(L*k/2)*sinh(L*\\kappa/2)/(\\kappa**4 + 2*\\kappa**2*k**2 + k**4) - 2*\\kappa**2*cos(L*k/2)*sinh(L*\\kappa/2)/(\\kappa**4 + 2*\\kappa**2*k**2 + k**4) - 4*\\kappa*k*sin(L*k/2)*cosh(L*\\kappa/2)/(\\kappa**4 + 2*\\kappa**2*k**2 + k**4) + 2*k**2*cos(L*k/2)*sinh(L*\\kappa/2)/(\\kappa**4 + 2*\\kappa**2*k**2 + k**4), True))"
      ]
     },
     "execution_count": 18,
     "metadata": {},
     "output_type": "execute_result"
    }
   ],
   "source": [
    "sp.integrate(sp.sinh(kappa*x)*sp.cos(k*x)*x, (x, -L/2, L/2))"
   ]
  },
  {
   "cell_type": "code",
   "execution_count": 19,
   "metadata": {},
   "outputs": [
    {
     "data": {
      "text/latex": [
       "$\\displaystyle \\begin{cases} L & \\text{for}\\: \\left(\\kappa = 0 \\wedge k = 0\\right) \\vee \\left(\\kappa = 0 \\wedge \\kappa = - i k \\wedge k = 0\\right) \\vee \\left(\\kappa = 0 \\wedge \\kappa = i k \\wedge k = 0\\right) \\vee \\left(\\kappa = 0 \\wedge \\kappa = - i k \\wedge \\kappa = i k \\wedge k = 0\\right) \\\\\\frac{L \\sin^{2}{\\left(\\frac{L k}{2} \\right)}}{2} + \\frac{L \\cos^{2}{\\left(\\frac{L k}{2} \\right)}}{2} + \\frac{\\sin{\\left(\\frac{L k}{2} \\right)} \\cos{\\left(\\frac{L k}{2} \\right)}}{k} & \\text{for}\\: \\left(\\kappa = 0 \\wedge \\kappa = - i k\\right) \\vee \\left(\\kappa = 0 \\wedge \\kappa = i k\\right) \\vee \\left(\\kappa = - i k \\wedge \\kappa = i k\\right) \\vee \\left(\\kappa = - i k \\wedge k = 0\\right) \\vee \\left(\\kappa = i k \\wedge k = 0\\right) \\vee \\left(\\kappa = 0 \\wedge \\kappa = - i k \\wedge \\kappa = i k\\right) \\vee \\left(\\kappa = - i k \\wedge \\kappa = i k \\wedge k = 0\\right) \\vee \\kappa = - i k \\vee \\kappa = i k \\\\\\frac{2 \\kappa \\cos{\\left(\\frac{L k}{2} \\right)} \\sinh{\\left(\\frac{L \\kappa}{2} \\right)}}{\\kappa^{2} + k^{2}} + \\frac{2 k \\sin{\\left(\\frac{L k}{2} \\right)} \\cosh{\\left(\\frac{L \\kappa}{2} \\right)}}{\\kappa^{2} + k^{2}} & \\text{otherwise} \\end{cases}$"
      ],
      "text/plain": [
       "Piecewise((L, (Eq(\\kappa, 0) & Eq(k, 0)) | (Eq(\\kappa, 0) & Eq(k, 0) & Eq(\\kappa, I*k)) | (Eq(\\kappa, 0) & Eq(k, 0) & Eq(\\kappa, -I*k)) | (Eq(\\kappa, 0) & Eq(k, 0) & Eq(\\kappa, I*k) & Eq(\\kappa, -I*k))), (L*sin(L*k/2)**2/2 + L*cos(L*k/2)**2/2 + sin(L*k/2)*cos(L*k/2)/k, Eq(\\kappa, I*k) | Eq(\\kappa, -I*k) | (Eq(\\kappa, 0) & Eq(\\kappa, I*k)) | (Eq(k, 0) & Eq(\\kappa, I*k)) | (Eq(\\kappa, 0) & Eq(\\kappa, -I*k)) | (Eq(k, 0) & Eq(\\kappa, -I*k)) | (Eq(\\kappa, I*k) & Eq(\\kappa, -I*k)) | (Eq(\\kappa, 0) & Eq(\\kappa, I*k) & Eq(\\kappa, -I*k)) | (Eq(k, 0) & Eq(\\kappa, I*k) & Eq(\\kappa, -I*k))), (2*\\kappa*cos(L*k/2)*sinh(L*\\kappa/2)/(\\kappa**2 + k**2) + 2*k*sin(L*k/2)*cosh(L*\\kappa/2)/(\\kappa**2 + k**2), True))"
      ]
     },
     "execution_count": 19,
     "metadata": {},
     "output_type": "execute_result"
    }
   ],
   "source": [
    "sp.integrate(sp.cosh(kappa*x)*sp.cos(k*x), (x, -L/2, L/2))"
   ]
  },
  {
   "cell_type": "code",
   "execution_count": 20,
   "metadata": {},
   "outputs": [
    {
     "data": {
      "text/latex": [
       "$\\displaystyle \\begin{cases} 0 & \\text{for}\\: \\left(\\kappa = 0 \\wedge k = 0\\right) \\vee \\left(\\kappa = 0 \\wedge \\kappa = - i k \\wedge k = 0\\right) \\vee \\left(\\kappa = 0 \\wedge \\kappa = i k \\wedge k = 0\\right) \\vee \\left(\\kappa = 0 \\wedge \\kappa = - i k \\wedge \\kappa = i k \\wedge k = 0\\right) \\\\i \\left(- \\frac{L \\sin^{2}{\\left(\\frac{L k}{2} \\right)}}{4} - \\frac{L \\cos^{2}{\\left(\\frac{L k}{2} \\right)}}{4} + \\frac{\\sin{\\left(\\frac{L k}{2} \\right)} \\cos{\\left(\\frac{L k}{2} \\right)}}{2 k}\\right) - i \\left(\\frac{L \\sin^{2}{\\left(\\frac{L k}{2} \\right)}}{4} + \\frac{L \\cos^{2}{\\left(\\frac{L k}{2} \\right)}}{4} - \\frac{\\sin{\\left(\\frac{L k}{2} \\right)} \\cos{\\left(\\frac{L k}{2} \\right)}}{2 k}\\right) & \\text{for}\\: \\left(\\kappa = 0 \\wedge \\kappa = - i k\\right) \\vee \\left(\\kappa = - i k \\wedge \\kappa = i k\\right) \\vee \\left(\\kappa = - i k \\wedge k = 0\\right) \\vee \\left(\\kappa = 0 \\wedge \\kappa = - i k \\wedge \\kappa = i k\\right) \\vee \\left(\\kappa = - i k \\wedge \\kappa = i k \\wedge k = 0\\right) \\vee \\kappa = - i k \\\\- i \\left(- \\frac{L \\sin^{2}{\\left(\\frac{L k}{2} \\right)}}{4} - \\frac{L \\cos^{2}{\\left(\\frac{L k}{2} \\right)}}{4} + \\frac{\\sin{\\left(\\frac{L k}{2} \\right)} \\cos{\\left(\\frac{L k}{2} \\right)}}{2 k}\\right) + i \\left(\\frac{L \\sin^{2}{\\left(\\frac{L k}{2} \\right)}}{4} + \\frac{L \\cos^{2}{\\left(\\frac{L k}{2} \\right)}}{4} - \\frac{\\sin{\\left(\\frac{L k}{2} \\right)} \\cos{\\left(\\frac{L k}{2} \\right)}}{2 k}\\right) & \\text{for}\\: \\left(\\kappa = 0 \\wedge \\kappa = i k\\right) \\vee \\left(\\kappa = i k \\wedge k = 0\\right) \\vee \\kappa = i k \\\\\\frac{2 \\kappa \\sin{\\left(\\frac{L k}{2} \\right)} \\cosh{\\left(\\frac{L \\kappa}{2} \\right)}}{\\kappa^{2} + k^{2}} - \\frac{2 k \\cos{\\left(\\frac{L k}{2} \\right)} \\sinh{\\left(\\frac{L \\kappa}{2} \\right)}}{\\kappa^{2} + k^{2}} & \\text{otherwise} \\end{cases}$"
      ],
      "text/plain": [
       "Piecewise((0, (Eq(\\kappa, 0) & Eq(k, 0)) | (Eq(\\kappa, 0) & Eq(k, 0) & Eq(\\kappa, I*k)) | (Eq(\\kappa, 0) & Eq(k, 0) & Eq(\\kappa, -I*k)) | (Eq(\\kappa, 0) & Eq(k, 0) & Eq(\\kappa, I*k) & Eq(\\kappa, -I*k))), (I*(-L*sin(L*k/2)**2/4 - L*cos(L*k/2)**2/4 + sin(L*k/2)*cos(L*k/2)/(2*k)) - I*(L*sin(L*k/2)**2/4 + L*cos(L*k/2)**2/4 - sin(L*k/2)*cos(L*k/2)/(2*k)), Eq(\\kappa, -I*k) | (Eq(\\kappa, 0) & Eq(\\kappa, -I*k)) | (Eq(k, 0) & Eq(\\kappa, -I*k)) | (Eq(\\kappa, I*k) & Eq(\\kappa, -I*k)) | (Eq(\\kappa, 0) & Eq(\\kappa, I*k) & Eq(\\kappa, -I*k)) | (Eq(k, 0) & Eq(\\kappa, I*k) & Eq(\\kappa, -I*k))), (-I*(-L*sin(L*k/2)**2/4 - L*cos(L*k/2)**2/4 + sin(L*k/2)*cos(L*k/2)/(2*k)) + I*(L*sin(L*k/2)**2/4 + L*cos(L*k/2)**2/4 - sin(L*k/2)*cos(L*k/2)/(2*k)), Eq(\\kappa, I*k) | (Eq(\\kappa, 0) & Eq(\\kappa, I*k)) | (Eq(k, 0) & Eq(\\kappa, I*k))), (2*\\kappa*sin(L*k/2)*cosh(L*\\kappa/2)/(\\kappa**2 + k**2) - 2*k*cos(L*k/2)*sinh(L*\\kappa/2)/(\\kappa**2 + k**2), True))"
      ]
     },
     "execution_count": 20,
     "metadata": {},
     "output_type": "execute_result"
    }
   ],
   "source": [
    "sp.integrate(sp.sinh(kappa*x)*sp.sin(k*x), (x, -L/2, L/2))"
   ]
  },
  {
   "cell_type": "code",
   "execution_count": 21,
   "metadata": {},
   "outputs": [
    {
     "data": {
      "text/latex": [
       "$\\displaystyle a \\sin{\\left(a \\right)} \\sinh{\\left(b \\right)} + b \\cos{\\left(a \\right)} \\cosh{\\left(b \\right)}$"
      ],
      "text/plain": [
       "a*sin(a)*sinh(b) + b*cos(a)*cosh(b)"
      ]
     },
     "execution_count": 21,
     "metadata": {},
     "output_type": "execute_result"
    }
   ],
   "source": [
    "a, b = sp.symbols(\"a, b\")\r\n",
    "sp.simplify(a*sp.sin(a)*sp.sinh(b) + b*sp.cos(a)*sp.cosh(b))"
   ]
  }
 ],
 "metadata": {
  "interpreter": {
   "hash": "b3ba2566441a7c06988d0923437866b63cedc61552a5af99d1f4fb67d367b25f"
  },
  "kernelspec": {
   "display_name": "Python 3.8.8 64-bit ('base': conda)",
   "name": "python3"
  },
  "language_info": {
   "codemirror_mode": {
    "name": "ipython",
    "version": 3
   },
   "file_extension": ".py",
   "mimetype": "text/x-python",
   "name": "python",
   "nbconvert_exporter": "python",
   "pygments_lexer": "ipython3",
   "version": "3.8.8"
  },
  "orig_nbformat": 2
 },
 "nbformat": 4,
 "nbformat_minor": 2
}