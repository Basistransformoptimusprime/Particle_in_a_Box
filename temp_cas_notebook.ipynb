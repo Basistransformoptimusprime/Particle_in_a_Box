{
 "metadata": {
  "language_info": {
   "codemirror_mode": {
    "name": "ipython",
    "version": 3
   },
   "file_extension": ".py",
   "mimetype": "text/x-python",
   "name": "python",
   "nbconvert_exporter": "python",
   "pygments_lexer": "ipython3",
   "version": "3.8.8"
  },
  "orig_nbformat": 2,
  "kernelspec": {
   "name": "python388jvsc74a57bd0b3ba2566441a7c06988d0923437866b63cedc61552a5af99d1f4fb67d367b25f",
   "display_name": "Python 3.8.8 64-bit ('base': conda)"
  }
 },
 "nbformat": 4,
 "nbformat_minor": 2,
 "cells": [
  {
   "cell_type": "code",
   "execution_count": 1,
   "source": [
    "import sympy as sp"
   ],
   "outputs": [],
   "metadata": {}
  },
  {
   "cell_type": "code",
   "execution_count": 10,
   "source": [
    "x, kappa, k, L = sp.symbols(r\"x, k, \\kappa, L\", real=True)\r\n",
    "\r\n",
    "sp.integrate(sp.cosh(kappa*x)*sp.sin(k*x)*x, (x, -L/2, L/2))"
   ],
   "outputs": [
    {
     "output_type": "execute_result",
     "data": {
      "text/plain": [
       "Piecewise((0, (Eq(\\kappa, 0) & Eq(k, 0)) | (Eq(\\kappa, 0) & Eq(k, 0) & Eq(\\kappa, I*k)) | (Eq(\\kappa, 0) & Eq(k, 0) & Eq(\\kappa, -I*k)) | (Eq(\\kappa, 0) & Eq(k, 0) & Eq(\\kappa, I*k) & Eq(\\kappa, -I*k))), (I*(-L*sinh(L*k/2)**2/(8*k) - L*cosh(L*k/2)**2/(8*k) + sinh(L*k/2)*cosh(L*k/2)/(4*k**2)) - I*(L*sinh(L*k/2)**2/(8*k) + L*cosh(L*k/2)**2/(8*k) - sinh(L*k/2)*cosh(L*k/2)/(4*k**2)), Eq(\\kappa, -I*k) | (Eq(\\kappa, 0) & Eq(\\kappa, -I*k)) | (Eq(k, 0) & Eq(\\kappa, -I*k)) | (Eq(\\kappa, I*k) & Eq(\\kappa, -I*k)) | (Eq(\\kappa, 0) & Eq(\\kappa, I*k) & Eq(\\kappa, -I*k)) | (Eq(k, 0) & Eq(\\kappa, I*k) & Eq(\\kappa, -I*k))), (-I*(-L*sinh(L*k/2)**2/(8*k) - L*cosh(L*k/2)**2/(8*k) + sinh(L*k/2)*cosh(L*k/2)/(4*k**2)) + I*(L*sinh(L*k/2)**2/(8*k) + L*cosh(L*k/2)**2/(8*k) - sinh(L*k/2)*cosh(L*k/2)/(4*k**2)), Eq(\\kappa, I*k) | (Eq(\\kappa, 0) & Eq(\\kappa, I*k)) | (Eq(k, 0) & Eq(\\kappa, I*k))), (-L*\\kappa**3*cos(L*\\kappa/2)*cosh(L*k/2)/(\\kappa**4 + 2*\\kappa**2*k**2 + k**4) + L*\\kappa**2*k*sin(L*\\kappa/2)*sinh(L*k/2)/(\\kappa**4 + 2*\\kappa**2*k**2 + k**4) - L*\\kappa*k**2*cos(L*\\kappa/2)*cosh(L*k/2)/(\\kappa**4 + 2*\\kappa**2*k**2 + k**4) + L*k**3*sin(L*\\kappa/2)*sinh(L*k/2)/(\\kappa**4 + 2*\\kappa**2*k**2 + k**4) + 2*\\kappa**2*sin(L*\\kappa/2)*cosh(L*k/2)/(\\kappa**4 + 2*\\kappa**2*k**2 + k**4) + 4*\\kappa*k*cos(L*\\kappa/2)*sinh(L*k/2)/(\\kappa**4 + 2*\\kappa**2*k**2 + k**4) - 2*k**2*sin(L*\\kappa/2)*cosh(L*k/2)/(\\kappa**4 + 2*\\kappa**2*k**2 + k**4), True))"
      ],
      "text/latex": [
       "$\\displaystyle \\begin{cases} 0 & \\text{for}\\: \\left(\\kappa = 0 \\wedge k = 0\\right) \\vee \\left(\\kappa = 0 \\wedge \\kappa = - i k \\wedge k = 0\\right) \\vee \\left(\\kappa = 0 \\wedge \\kappa = i k \\wedge k = 0\\right) \\vee \\left(\\kappa = 0 \\wedge \\kappa = - i k \\wedge \\kappa = i k \\wedge k = 0\\right) \\\\i \\left(- \\frac{L \\sinh^{2}{\\left(\\frac{L k}{2} \\right)}}{8 k} - \\frac{L \\cosh^{2}{\\left(\\frac{L k}{2} \\right)}}{8 k} + \\frac{\\sinh{\\left(\\frac{L k}{2} \\right)} \\cosh{\\left(\\frac{L k}{2} \\right)}}{4 k^{2}}\\right) - i \\left(\\frac{L \\sinh^{2}{\\left(\\frac{L k}{2} \\right)}}{8 k} + \\frac{L \\cosh^{2}{\\left(\\frac{L k}{2} \\right)}}{8 k} - \\frac{\\sinh{\\left(\\frac{L k}{2} \\right)} \\cosh{\\left(\\frac{L k}{2} \\right)}}{4 k^{2}}\\right) & \\text{for}\\: \\left(\\kappa = 0 \\wedge \\kappa = - i k\\right) \\vee \\left(\\kappa = - i k \\wedge \\kappa = i k\\right) \\vee \\left(\\kappa = - i k \\wedge k = 0\\right) \\vee \\left(\\kappa = 0 \\wedge \\kappa = - i k \\wedge \\kappa = i k\\right) \\vee \\left(\\kappa = - i k \\wedge \\kappa = i k \\wedge k = 0\\right) \\vee \\kappa = - i k \\\\- i \\left(- \\frac{L \\sinh^{2}{\\left(\\frac{L k}{2} \\right)}}{8 k} - \\frac{L \\cosh^{2}{\\left(\\frac{L k}{2} \\right)}}{8 k} + \\frac{\\sinh{\\left(\\frac{L k}{2} \\right)} \\cosh{\\left(\\frac{L k}{2} \\right)}}{4 k^{2}}\\right) + i \\left(\\frac{L \\sinh^{2}{\\left(\\frac{L k}{2} \\right)}}{8 k} + \\frac{L \\cosh^{2}{\\left(\\frac{L k}{2} \\right)}}{8 k} - \\frac{\\sinh{\\left(\\frac{L k}{2} \\right)} \\cosh{\\left(\\frac{L k}{2} \\right)}}{4 k^{2}}\\right) & \\text{for}\\: \\left(\\kappa = 0 \\wedge \\kappa = i k\\right) \\vee \\left(\\kappa = i k \\wedge k = 0\\right) \\vee \\kappa = i k \\\\- \\frac{L \\kappa^{3} \\cos{\\left(\\frac{L \\kappa}{2} \\right)} \\cosh{\\left(\\frac{L k}{2} \\right)}}{\\kappa^{4} + 2 \\kappa^{2} k^{2} + k^{4}} + \\frac{L \\kappa^{2} k \\sin{\\left(\\frac{L \\kappa}{2} \\right)} \\sinh{\\left(\\frac{L k}{2} \\right)}}{\\kappa^{4} + 2 \\kappa^{2} k^{2} + k^{4}} - \\frac{L \\kappa k^{2} \\cos{\\left(\\frac{L \\kappa}{2} \\right)} \\cosh{\\left(\\frac{L k}{2} \\right)}}{\\kappa^{4} + 2 \\kappa^{2} k^{2} + k^{4}} + \\frac{L k^{3} \\sin{\\left(\\frac{L \\kappa}{2} \\right)} \\sinh{\\left(\\frac{L k}{2} \\right)}}{\\kappa^{4} + 2 \\kappa^{2} k^{2} + k^{4}} + \\frac{2 \\kappa^{2} \\sin{\\left(\\frac{L \\kappa}{2} \\right)} \\cosh{\\left(\\frac{L k}{2} \\right)}}{\\kappa^{4} + 2 \\kappa^{2} k^{2} + k^{4}} + \\frac{4 \\kappa k \\cos{\\left(\\frac{L \\kappa}{2} \\right)} \\sinh{\\left(\\frac{L k}{2} \\right)}}{\\kappa^{4} + 2 \\kappa^{2} k^{2} + k^{4}} - \\frac{2 k^{2} \\sin{\\left(\\frac{L \\kappa}{2} \\right)} \\cosh{\\left(\\frac{L k}{2} \\right)}}{\\kappa^{4} + 2 \\kappa^{2} k^{2} + k^{4}} & \\text{otherwise} \\end{cases}$"
      ]
     },
     "metadata": {},
     "execution_count": 10
    }
   ],
   "metadata": {}
  },
  {
   "cell_type": "code",
   "execution_count": 5,
   "source": [
    "sp.integrate(sp.sinh(kappa*x)*sp.cos(k*x)*x, (x, -L/2, L/2))"
   ],
   "outputs": [
    {
     "output_type": "execute_result",
     "data": {
      "text/plain": [
       "Piecewise((0, (Eq(\\kappa, 0) & Eq(k, 0)) | (Eq(\\kappa, 0) & Eq(k, 0) & Eq(\\kappa, I*k)) | (Eq(\\kappa, 0) & Eq(k, 0) & Eq(\\kappa, -I*k)) | (Eq(\\kappa, 0) & Eq(k, 0) & Eq(\\kappa, I*k) & Eq(\\kappa, -I*k))), (L*sinh(L*k/2)**2/(4*k) + L*cosh(L*k/2)**2/(4*k) - sinh(L*k/2)*cosh(L*k/2)/(2*k**2), Eq(\\kappa, I*k) | Eq(\\kappa, -I*k) | (Eq(\\kappa, 0) & Eq(\\kappa, I*k)) | (Eq(k, 0) & Eq(\\kappa, I*k)) | (Eq(\\kappa, 0) & Eq(\\kappa, -I*k)) | (Eq(k, 0) & Eq(\\kappa, -I*k)) | (Eq(\\kappa, I*k) & Eq(\\kappa, -I*k)) | (Eq(\\kappa, 0) & Eq(\\kappa, I*k) & Eq(\\kappa, -I*k)) | (Eq(k, 0) & Eq(\\kappa, I*k) & Eq(\\kappa, -I*k))), (L*\\kappa**3*sin(L*\\kappa/2)*sinh(L*k/2)/(\\kappa**4 + 2*\\kappa**2*k**2 + k**4) + L*\\kappa**2*k*cos(L*\\kappa/2)*cosh(L*k/2)/(\\kappa**4 + 2*\\kappa**2*k**2 + k**4) + L*\\kappa*k**2*sin(L*\\kappa/2)*sinh(L*k/2)/(\\kappa**4 + 2*\\kappa**2*k**2 + k**4) + L*k**3*cos(L*\\kappa/2)*cosh(L*k/2)/(\\kappa**4 + 2*\\kappa**2*k**2 + k**4) + 2*\\kappa**2*cos(L*\\kappa/2)*sinh(L*k/2)/(\\kappa**4 + 2*\\kappa**2*k**2 + k**4) - 4*\\kappa*k*sin(L*\\kappa/2)*cosh(L*k/2)/(\\kappa**4 + 2*\\kappa**2*k**2 + k**4) - 2*k**2*cos(L*\\kappa/2)*sinh(L*k/2)/(\\kappa**4 + 2*\\kappa**2*k**2 + k**4), True))"
      ],
      "text/latex": [
       "$\\displaystyle \\begin{cases} 0 & \\text{for}\\: \\left(\\kappa = 0 \\wedge k = 0\\right) \\vee \\left(\\kappa = 0 \\wedge \\kappa = - i k \\wedge k = 0\\right) \\vee \\left(\\kappa = 0 \\wedge \\kappa = i k \\wedge k = 0\\right) \\vee \\left(\\kappa = 0 \\wedge \\kappa = - i k \\wedge \\kappa = i k \\wedge k = 0\\right) \\\\\\frac{L \\sinh^{2}{\\left(\\frac{L k}{2} \\right)}}{4 k} + \\frac{L \\cosh^{2}{\\left(\\frac{L k}{2} \\right)}}{4 k} - \\frac{\\sinh{\\left(\\frac{L k}{2} \\right)} \\cosh{\\left(\\frac{L k}{2} \\right)}}{2 k^{2}} & \\text{for}\\: \\left(\\kappa = 0 \\wedge \\kappa = - i k\\right) \\vee \\left(\\kappa = 0 \\wedge \\kappa = i k\\right) \\vee \\left(\\kappa = - i k \\wedge \\kappa = i k\\right) \\vee \\left(\\kappa = - i k \\wedge k = 0\\right) \\vee \\left(\\kappa = i k \\wedge k = 0\\right) \\vee \\left(\\kappa = 0 \\wedge \\kappa = - i k \\wedge \\kappa = i k\\right) \\vee \\left(\\kappa = - i k \\wedge \\kappa = i k \\wedge k = 0\\right) \\vee \\kappa = - i k \\vee \\kappa = i k \\\\\\frac{L \\kappa^{3} \\sin{\\left(\\frac{L \\kappa}{2} \\right)} \\sinh{\\left(\\frac{L k}{2} \\right)}}{\\kappa^{4} + 2 \\kappa^{2} k^{2} + k^{4}} + \\frac{L \\kappa^{2} k \\cos{\\left(\\frac{L \\kappa}{2} \\right)} \\cosh{\\left(\\frac{L k}{2} \\right)}}{\\kappa^{4} + 2 \\kappa^{2} k^{2} + k^{4}} + \\frac{L \\kappa k^{2} \\sin{\\left(\\frac{L \\kappa}{2} \\right)} \\sinh{\\left(\\frac{L k}{2} \\right)}}{\\kappa^{4} + 2 \\kappa^{2} k^{2} + k^{4}} + \\frac{L k^{3} \\cos{\\left(\\frac{L \\kappa}{2} \\right)} \\cosh{\\left(\\frac{L k}{2} \\right)}}{\\kappa^{4} + 2 \\kappa^{2} k^{2} + k^{4}} + \\frac{2 \\kappa^{2} \\cos{\\left(\\frac{L \\kappa}{2} \\right)} \\sinh{\\left(\\frac{L k}{2} \\right)}}{\\kappa^{4} + 2 \\kappa^{2} k^{2} + k^{4}} - \\frac{4 \\kappa k \\sin{\\left(\\frac{L \\kappa}{2} \\right)} \\cosh{\\left(\\frac{L k}{2} \\right)}}{\\kappa^{4} + 2 \\kappa^{2} k^{2} + k^{4}} - \\frac{2 k^{2} \\cos{\\left(\\frac{L \\kappa}{2} \\right)} \\sinh{\\left(\\frac{L k}{2} \\right)}}{\\kappa^{4} + 2 \\kappa^{2} k^{2} + k^{4}} & \\text{otherwise} \\end{cases}$"
      ]
     },
     "metadata": {},
     "execution_count": 5
    }
   ],
   "metadata": {}
  },
  {
   "cell_type": "code",
   "execution_count": 8,
   "source": [
    "sp.integrate(sp.cosh(kappa*x)*sp.cos(k*x), (x, -L/2, L/2))"
   ],
   "outputs": [
    {
     "output_type": "execute_result",
     "data": {
      "text/plain": [
       "Piecewise((L, (Eq(\\kappa, 0) & Eq(k, 0)) | (Eq(\\kappa, 0) & Eq(k, 0) & Eq(\\kappa, I*k)) | (Eq(\\kappa, 0) & Eq(k, 0) & Eq(\\kappa, -I*k)) | (Eq(\\kappa, 0) & Eq(k, 0) & Eq(\\kappa, I*k) & Eq(\\kappa, -I*k))), (-L*sinh(L*k/2)**2/2 + L*cosh(L*k/2)**2/2 + sinh(L*k/2)*cosh(L*k/2)/k, Eq(\\kappa, I*k) | Eq(\\kappa, -I*k) | (Eq(\\kappa, 0) & Eq(\\kappa, I*k)) | (Eq(k, 0) & Eq(\\kappa, I*k)) | (Eq(\\kappa, 0) & Eq(\\kappa, -I*k)) | (Eq(k, 0) & Eq(\\kappa, -I*k)) | (Eq(\\kappa, I*k) & Eq(\\kappa, -I*k)) | (Eq(\\kappa, 0) & Eq(\\kappa, I*k) & Eq(\\kappa, -I*k)) | (Eq(k, 0) & Eq(\\kappa, I*k) & Eq(\\kappa, -I*k))), (2*\\kappa*sin(L*\\kappa/2)*cosh(L*k/2)/(\\kappa**2 + k**2) + 2*k*cos(L*\\kappa/2)*sinh(L*k/2)/(\\kappa**2 + k**2), True))"
      ],
      "text/latex": [
       "$\\displaystyle \\begin{cases} L & \\text{for}\\: \\left(\\kappa = 0 \\wedge k = 0\\right) \\vee \\left(\\kappa = 0 \\wedge \\kappa = - i k \\wedge k = 0\\right) \\vee \\left(\\kappa = 0 \\wedge \\kappa = i k \\wedge k = 0\\right) \\vee \\left(\\kappa = 0 \\wedge \\kappa = - i k \\wedge \\kappa = i k \\wedge k = 0\\right) \\\\- \\frac{L \\sinh^{2}{\\left(\\frac{L k}{2} \\right)}}{2} + \\frac{L \\cosh^{2}{\\left(\\frac{L k}{2} \\right)}}{2} + \\frac{\\sinh{\\left(\\frac{L k}{2} \\right)} \\cosh{\\left(\\frac{L k}{2} \\right)}}{k} & \\text{for}\\: \\left(\\kappa = 0 \\wedge \\kappa = - i k\\right) \\vee \\left(\\kappa = 0 \\wedge \\kappa = i k\\right) \\vee \\left(\\kappa = - i k \\wedge \\kappa = i k\\right) \\vee \\left(\\kappa = - i k \\wedge k = 0\\right) \\vee \\left(\\kappa = i k \\wedge k = 0\\right) \\vee \\left(\\kappa = 0 \\wedge \\kappa = - i k \\wedge \\kappa = i k\\right) \\vee \\left(\\kappa = - i k \\wedge \\kappa = i k \\wedge k = 0\\right) \\vee \\kappa = - i k \\vee \\kappa = i k \\\\\\frac{2 \\kappa \\sin{\\left(\\frac{L \\kappa}{2} \\right)} \\cosh{\\left(\\frac{L k}{2} \\right)}}{\\kappa^{2} + k^{2}} + \\frac{2 k \\cos{\\left(\\frac{L \\kappa}{2} \\right)} \\sinh{\\left(\\frac{L k}{2} \\right)}}{\\kappa^{2} + k^{2}} & \\text{otherwise} \\end{cases}$"
      ]
     },
     "metadata": {},
     "execution_count": 8
    }
   ],
   "metadata": {}
  },
  {
   "cell_type": "code",
   "execution_count": 9,
   "source": [
    "sp.integrate(sp.sinh(kappa*x)*sp.sin(k*x), (x, -L/2, L/2))"
   ],
   "outputs": [
    {
     "output_type": "execute_result",
     "data": {
      "text/plain": [
       "Piecewise((0, (Eq(\\kappa, 0) & Eq(k, 0)) | (Eq(\\kappa, 0) & Eq(k, 0) & Eq(\\kappa, I*k)) | (Eq(\\kappa, 0) & Eq(k, 0) & Eq(\\kappa, -I*k)) | (Eq(\\kappa, 0) & Eq(k, 0) & Eq(\\kappa, I*k) & Eq(\\kappa, -I*k))), (I*(-L*sinh(L*k/2)**2/4 + L*cosh(L*k/2)**2/4 - sinh(L*k/2)*cosh(L*k/2)/(2*k)) - I*(L*sinh(L*k/2)**2/4 - L*cosh(L*k/2)**2/4 + sinh(L*k/2)*cosh(L*k/2)/(2*k)), Eq(\\kappa, -I*k) | (Eq(\\kappa, 0) & Eq(\\kappa, -I*k)) | (Eq(k, 0) & Eq(\\kappa, -I*k)) | (Eq(\\kappa, I*k) & Eq(\\kappa, -I*k)) | (Eq(\\kappa, 0) & Eq(\\kappa, I*k) & Eq(\\kappa, -I*k)) | (Eq(k, 0) & Eq(\\kappa, I*k) & Eq(\\kappa, -I*k))), (-I*(-L*sinh(L*k/2)**2/4 + L*cosh(L*k/2)**2/4 - sinh(L*k/2)*cosh(L*k/2)/(2*k)) + I*(L*sinh(L*k/2)**2/4 - L*cosh(L*k/2)**2/4 + sinh(L*k/2)*cosh(L*k/2)/(2*k)), Eq(\\kappa, I*k) | (Eq(\\kappa, 0) & Eq(\\kappa, I*k)) | (Eq(k, 0) & Eq(\\kappa, I*k))), (-2*\\kappa*cos(L*\\kappa/2)*sinh(L*k/2)/(\\kappa**2 + k**2) + 2*k*sin(L*\\kappa/2)*cosh(L*k/2)/(\\kappa**2 + k**2), True))"
      ],
      "text/latex": [
       "$\\displaystyle \\begin{cases} 0 & \\text{for}\\: \\left(\\kappa = 0 \\wedge k = 0\\right) \\vee \\left(\\kappa = 0 \\wedge \\kappa = - i k \\wedge k = 0\\right) \\vee \\left(\\kappa = 0 \\wedge \\kappa = i k \\wedge k = 0\\right) \\vee \\left(\\kappa = 0 \\wedge \\kappa = - i k \\wedge \\kappa = i k \\wedge k = 0\\right) \\\\i \\left(- \\frac{L \\sinh^{2}{\\left(\\frac{L k}{2} \\right)}}{4} + \\frac{L \\cosh^{2}{\\left(\\frac{L k}{2} \\right)}}{4} - \\frac{\\sinh{\\left(\\frac{L k}{2} \\right)} \\cosh{\\left(\\frac{L k}{2} \\right)}}{2 k}\\right) - i \\left(\\frac{L \\sinh^{2}{\\left(\\frac{L k}{2} \\right)}}{4} - \\frac{L \\cosh^{2}{\\left(\\frac{L k}{2} \\right)}}{4} + \\frac{\\sinh{\\left(\\frac{L k}{2} \\right)} \\cosh{\\left(\\frac{L k}{2} \\right)}}{2 k}\\right) & \\text{for}\\: \\left(\\kappa = 0 \\wedge \\kappa = - i k\\right) \\vee \\left(\\kappa = - i k \\wedge \\kappa = i k\\right) \\vee \\left(\\kappa = - i k \\wedge k = 0\\right) \\vee \\left(\\kappa = 0 \\wedge \\kappa = - i k \\wedge \\kappa = i k\\right) \\vee \\left(\\kappa = - i k \\wedge \\kappa = i k \\wedge k = 0\\right) \\vee \\kappa = - i k \\\\- i \\left(- \\frac{L \\sinh^{2}{\\left(\\frac{L k}{2} \\right)}}{4} + \\frac{L \\cosh^{2}{\\left(\\frac{L k}{2} \\right)}}{4} - \\frac{\\sinh{\\left(\\frac{L k}{2} \\right)} \\cosh{\\left(\\frac{L k}{2} \\right)}}{2 k}\\right) + i \\left(\\frac{L \\sinh^{2}{\\left(\\frac{L k}{2} \\right)}}{4} - \\frac{L \\cosh^{2}{\\left(\\frac{L k}{2} \\right)}}{4} + \\frac{\\sinh{\\left(\\frac{L k}{2} \\right)} \\cosh{\\left(\\frac{L k}{2} \\right)}}{2 k}\\right) & \\text{for}\\: \\left(\\kappa = 0 \\wedge \\kappa = i k\\right) \\vee \\left(\\kappa = i k \\wedge k = 0\\right) \\vee \\kappa = i k \\\\- \\frac{2 \\kappa \\cos{\\left(\\frac{L \\kappa}{2} \\right)} \\sinh{\\left(\\frac{L k}{2} \\right)}}{\\kappa^{2} + k^{2}} + \\frac{2 k \\sin{\\left(\\frac{L \\kappa}{2} \\right)} \\cosh{\\left(\\frac{L k}{2} \\right)}}{\\kappa^{2} + k^{2}} & \\text{otherwise} \\end{cases}$"
      ]
     },
     "metadata": {},
     "execution_count": 9
    }
   ],
   "metadata": {}
  }
 ]
}